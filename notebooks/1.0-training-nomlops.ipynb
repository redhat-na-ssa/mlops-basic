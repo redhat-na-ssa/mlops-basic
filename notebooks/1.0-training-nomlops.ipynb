{
 "cells": [
  {
   "cell_type": "markdown",
   "id": "4dc9c4db-3056-497a-b676-5fbef4c7d40e",
   "metadata": {},
   "source": [
    "# Classification with TensorFlow Neural Decision Forests"
   ]
  },
  {
   "cell_type": "code",
   "execution_count": null,
   "id": "f6f054a5-9ff0-4579-aee9-eda01bf009c2",
   "metadata": {},
   "outputs": [],
   "source": []
  },
  {
   "cell_type": "markdown",
   "id": "77efc0cc-aa30-46cf-8c84-ca19c1f6175a",
   "metadata": {},
   "source": [
    "## The scenario\n",
    "\n",
    "Predicting sepsis from patient data.\n",
    "\n",
    "## The data\n",
    "\n",
    "This example uses synthetically generated patient data containing biological markers. The task is binary classification to predict whether a patient is septic or not based on bio-markers. The dataset includes 100,000 instances with 4 numerical features (Heart Rate, Respiratory Rate, Temperature, and White Blood Cell Count) labelled with 0 (not septic) or 1 (septic).\n",
    "\n",
    "For more details review the data_file folder.\n",
    "\n",
    "## The model\n",
    "\n",
    "TensorFlow Decision Forests (TF-DF)."
   ]
  },
  {
   "cell_type": "markdown",
   "id": "8b897c59-b4a2-42a4-a4b6-279bf4b07fc5",
   "metadata": {},
   "source": [
    "# Development & Training"
   ]
  },
  {
   "cell_type": "markdown",
   "id": "c76ceeed-59cd-4d67-a6e0-5edeacafbfe3",
   "metadata": {},
   "source": [
    "## Install packages and libraries\n",
    "\n",
    "In the terminal run 'pip install -r requirements.txt'. Import libraries needed for development."
   ]
  },
  {
   "cell_type": "code",
   "execution_count": 1,
   "id": "0da2b28c-82bc-4944-9253-075bfe5b75f7",
   "metadata": {},
   "outputs": [
    {
     "name": "stderr",
     "output_type": "stream",
     "text": [
      "2022-08-02 23:23:09.075979: W tensorflow/stream_executor/platform/default/dso_loader.cc:64] Could not load dynamic library 'libcudart.so.11.0'; dlerror: libcudart.so.11.0: cannot open shared object file: No such file or directory\n",
      "2022-08-02 23:23:09.076031: I tensorflow/stream_executor/cuda/cudart_stub.cc:29] Ignore above cudart dlerror if you do not have a GPU set up on your machine.\n"
     ]
    }
   ],
   "source": [
    "import tensorflow_decision_forests as tfdf\n",
    "\n",
    "import os\n",
    "import numpy as np\n",
    "import pandas as pd\n",
    "import tensorflow as tf\n",
    "import math\n",
    "\n",
    "# data splitting\n",
    "from sklearn.model_selection import train_test_split"
   ]
  },
  {
   "cell_type": "code",
   "execution_count": 2,
   "id": "6f3d1451-4907-4f94-8d10-65f2e3cfcf2a",
   "metadata": {},
   "outputs": [
    {
     "name": "stdout",
     "output_type": "stream",
     "text": [
      "Found TensorFlow Decision Forests v0.2.7\n"
     ]
    }
   ],
   "source": [
    "# Check the version of TensorFlow Decision Forests\n",
    "print(\"Found TensorFlow Decision Forests v\" + tfdf.__version__)"
   ]
  },
  {
   "cell_type": "markdown",
   "id": "91938ea1-b13f-4429-868c-04aa9a619557",
   "metadata": {},
   "source": [
    "## Load the data "
   ]
  },
  {
   "cell_type": "code",
   "execution_count": 3,
   "id": "621b4cb7-f49f-4736-b46c-718c9dcda63b",
   "metadata": {},
   "outputs": [
    {
     "name": "stdout",
     "output_type": "stream",
     "text": [
      "Dataset shape: (100000, 4)\n"
     ]
    },
    {
     "data": {
      "text/html": [
       "<div>\n",
       "<style scoped>\n",
       "    .dataframe tbody tr th:only-of-type {\n",
       "        vertical-align: middle;\n",
       "    }\n",
       "\n",
       "    .dataframe tbody tr th {\n",
       "        vertical-align: top;\n",
       "    }\n",
       "\n",
       "    .dataframe thead th {\n",
       "        text-align: right;\n",
       "    }\n",
       "</style>\n",
       "<table border=\"1\" class=\"dataframe\">\n",
       "  <thead>\n",
       "    <tr style=\"text-align: right;\">\n",
       "      <th></th>\n",
       "      <th>HR</th>\n",
       "      <th>Resp</th>\n",
       "      <th>WBC</th>\n",
       "      <th>isSeptic</th>\n",
       "    </tr>\n",
       "    <tr>\n",
       "      <th>Temp</th>\n",
       "      <th></th>\n",
       "      <th></th>\n",
       "      <th></th>\n",
       "      <th></th>\n",
       "    </tr>\n",
       "  </thead>\n",
       "  <tbody>\n",
       "    <tr>\n",
       "      <th>40.0</th>\n",
       "      <td>110.0</td>\n",
       "      <td>12.0</td>\n",
       "      <td>4.54</td>\n",
       "      <td>0</td>\n",
       "    </tr>\n",
       "    <tr>\n",
       "      <th>41.5</th>\n",
       "      <td>79.0</td>\n",
       "      <td>26.0</td>\n",
       "      <td>4.23</td>\n",
       "      <td>0</td>\n",
       "    </tr>\n",
       "    <tr>\n",
       "      <th>41.9</th>\n",
       "      <td>61.0</td>\n",
       "      <td>14.0</td>\n",
       "      <td>18.13</td>\n",
       "      <td>0</td>\n",
       "    </tr>\n",
       "  </tbody>\n",
       "</table>\n",
       "</div>"
      ],
      "text/plain": [
       "         HR  Resp    WBC  isSeptic\n",
       "Temp                              \n",
       "40.0  110.0  12.0   4.54         0\n",
       "41.5   79.0  26.0   4.23         0\n",
       "41.9   61.0  14.0  18.13         0"
      ]
     },
     "execution_count": 3,
     "metadata": {},
     "output_type": "execute_result"
    }
   ],
   "source": [
    "# Download the dataset into a Pandas Dataframe.\n",
    "data = pd.read_csv(\"../data/training_data/septic_data_labelled.csv\", sep=\",\", index_col=0)\n",
    "\n",
    "# Display the shape\n",
    "print(f\"Dataset shape: {data.shape}\")\n",
    "\n",
    "# Display the first 3 examples.\n",
    "data.head(3)"
   ]
  },
  {
   "cell_type": "markdown",
   "id": "9f3a3ad7-b64b-4a1c-937b-d0a0ba002557",
   "metadata": {},
   "source": [
    "Check the data representation for non-Septic to Septic records."
   ]
  },
  {
   "cell_type": "code",
   "execution_count": 4,
   "id": "9650ea66-797f-4c6a-ae90-7552853d9959",
   "metadata": {},
   "outputs": [
    {
     "data": {
      "text/plain": [
       "0    93000\n",
       "1     7000\n",
       "Name: isSeptic, dtype: int64"
      ]
     },
     "execution_count": 4,
     "metadata": {},
     "output_type": "execute_result"
    }
   ],
   "source": [
    "data['isSeptic'].value_counts()"
   ]
  },
  {
   "cell_type": "code",
   "execution_count": 5,
   "id": "f27f6325-9ef8-45d2-8953-9e46d580b9da",
   "metadata": {},
   "outputs": [
    {
     "name": "stdout",
     "output_type": "stream",
     "text": [
      "Integer classes: [0, 1]\n"
     ]
    }
   ],
   "source": [
    "# This stage is necessary if your classification label is represented as a\n",
    "# string since Keras expects integer classification labels.\n",
    "# When using `pd_dataframe_to_tf_dataset` (see below), this step can be skipped.\n",
    "\n",
    "# Name of the label column.\n",
    "label = \"isSeptic\"\n",
    "\n",
    "classes = data[label].unique().tolist()\n",
    "print(f\"Integer classes: {classes}\")"
   ]
  },
  {
   "cell_type": "markdown",
   "id": "4c51ed2e-5821-4207-aaf3-7b72ea9db602",
   "metadata": {},
   "source": [
    "## Split the data"
   ]
  },
  {
   "cell_type": "markdown",
   "id": "fdfa6c2c-4e4b-4c83-93fa-494008b25cba",
   "metadata": {},
   "source": [
    "Next split the dataset into training and testing:"
   ]
  },
  {
   "cell_type": "code",
   "execution_count": 6,
   "id": "af4537db-8845-4ce0-8e6d-ce0255a01723",
   "metadata": {},
   "outputs": [
    {
     "name": "stdout",
     "output_type": "stream",
     "text": [
      "Train dataset (rows, cols.): (80000, 4)\n",
      "Test dataset (rows, cols.): (20000, 4)\n"
     ]
    }
   ],
   "source": [
    "# split, shuffle, and stratify the data\n",
    "train_ds, test_ds = \\\n",
    "    train_test_split(\n",
    "    # the dataset\n",
    "    data,\n",
    "    # how much to split for test\n",
    "    test_size=0.20,\n",
    "    # whether or not to shuffle the data before splitting. If shuffle=False then stratify must be None.\n",
    "    shuffle=True,\n",
    "    # random state fixes the randomization so you get the same results each time\n",
    "    random_state=42, \n",
    "    # stratified splitting keeps the proportion of y values trhough the train and test sets\n",
    "    stratify=data[\"isSeptic\"])\n",
    "\n",
    "print(f\"Train dataset (rows, cols.): {train_ds.shape}\")\n",
    "print(f\"Test dataset (rows, cols.): {test_ds.shape}\")"
   ]
  },
  {
   "cell_type": "code",
   "execution_count": 7,
   "id": "29f8942a-86f0-4019-a16a-ceaa6adcd844",
   "metadata": {},
   "outputs": [
    {
     "data": {
      "text/html": [
       "<div>\n",
       "<style scoped>\n",
       "    .dataframe tbody tr th:only-of-type {\n",
       "        vertical-align: middle;\n",
       "    }\n",
       "\n",
       "    .dataframe tbody tr th {\n",
       "        vertical-align: top;\n",
       "    }\n",
       "\n",
       "    .dataframe thead th {\n",
       "        text-align: right;\n",
       "    }\n",
       "</style>\n",
       "<table border=\"1\" class=\"dataframe\">\n",
       "  <thead>\n",
       "    <tr style=\"text-align: right;\">\n",
       "      <th></th>\n",
       "      <th>HR</th>\n",
       "      <th>Resp</th>\n",
       "      <th>WBC</th>\n",
       "      <th>isSeptic</th>\n",
       "    </tr>\n",
       "    <tr>\n",
       "      <th>Temp</th>\n",
       "      <th></th>\n",
       "      <th></th>\n",
       "      <th></th>\n",
       "      <th></th>\n",
       "    </tr>\n",
       "  </thead>\n",
       "  <tbody>\n",
       "    <tr>\n",
       "      <th>36.5</th>\n",
       "      <td>205.0</td>\n",
       "      <td>24.0</td>\n",
       "      <td>10.36</td>\n",
       "      <td>0</td>\n",
       "    </tr>\n",
       "    <tr>\n",
       "      <th>36.4</th>\n",
       "      <td>239.0</td>\n",
       "      <td>17.0</td>\n",
       "      <td>3.12</td>\n",
       "      <td>0</td>\n",
       "    </tr>\n",
       "    <tr>\n",
       "      <th>36.7</th>\n",
       "      <td>186.0</td>\n",
       "      <td>18.0</td>\n",
       "      <td>3.83</td>\n",
       "      <td>0</td>\n",
       "    </tr>\n",
       "  </tbody>\n",
       "</table>\n",
       "</div>"
      ],
      "text/plain": [
       "         HR  Resp    WBC  isSeptic\n",
       "Temp                              \n",
       "36.5  205.0  24.0  10.36         0\n",
       "36.4  239.0  17.0   3.12         0\n",
       "36.7  186.0  18.0   3.83         0"
      ]
     },
     "execution_count": 7,
     "metadata": {},
     "output_type": "execute_result"
    }
   ],
   "source": [
    "# Display the first 3 examples after the split, shuffle and stratification\n",
    "train_ds.head(3)"
   ]
  },
  {
   "cell_type": "markdown",
   "id": "3d08200c-5aa8-479a-86f1-d81a1e1c800c",
   "metadata": {},
   "source": [
    "Check that the split data is representative of the population that is septic on average."
   ]
  },
  {
   "cell_type": "code",
   "execution_count": 8,
   "id": "c0fb1214-de9d-4448-8aa7-1d7cf08a5172",
   "metadata": {},
   "outputs": [
    {
     "data": {
      "text/plain": [
       "0    74400\n",
       "1     5600\n",
       "Name: isSeptic, dtype: int64"
      ]
     },
     "execution_count": 8,
     "metadata": {},
     "output_type": "execute_result"
    }
   ],
   "source": [
    "train_ds['isSeptic'].value_counts()"
   ]
  },
  {
   "cell_type": "code",
   "execution_count": 9,
   "id": "e01b8bb8-8a99-489b-af44-a7692e4ab426",
   "metadata": {},
   "outputs": [
    {
     "data": {
      "text/plain": [
       "0    18600\n",
       "1     1400\n",
       "Name: isSeptic, dtype: int64"
      ]
     },
     "execution_count": 9,
     "metadata": {},
     "output_type": "execute_result"
    }
   ],
   "source": [
    "test_ds['isSeptic'].value_counts()"
   ]
  },
  {
   "cell_type": "markdown",
   "id": "1516916d-608f-4849-840e-63bb82704147",
   "metadata": {},
   "source": [
    "## Convert the data\n",
    "\n",
    "And finally, convert the pandas dataframe (pd.Dataframe) into tensorflow datasets (tf.data.Dataset). "
   ]
  },
  {
   "cell_type": "code",
   "execution_count": 10,
   "id": "bd2ed119-f77d-4ae5-ba36-0eedc080365d",
   "metadata": {},
   "outputs": [
    {
     "name": "stderr",
     "output_type": "stream",
     "text": [
      "/opt/app-root/lib64/python3.8/site-packages/tensorflow_decision_forests/keras/core.py:2574: FutureWarning: In a future version of pandas all arguments of DataFrame.drop except for the argument 'labels' will be keyword-only.\n",
      "  features_dataframe = dataframe.drop(label, 1)\n",
      "2022-08-02 23:23:12.234555: W tensorflow/stream_executor/platform/default/dso_loader.cc:64] Could not load dynamic library 'libcuda.so.1'; dlerror: libcuda.so.1: cannot open shared object file: No such file or directory\n",
      "2022-08-02 23:23:12.234605: W tensorflow/stream_executor/cuda/cuda_driver.cc:269] failed call to cuInit: UNKNOWN ERROR (303)\n",
      "2022-08-02 23:23:12.234635: I tensorflow/stream_executor/cuda/cuda_diagnostics.cc:156] kernel driver does not appear to be running on this host (jupyterhub-nb-opentlc-2dmgr): /proc/driver/nvidia/version does not exist\n",
      "2022-08-02 23:23:12.234976: I tensorflow/core/platform/cpu_feature_guard.cc:193] This TensorFlow binary is optimized with oneAPI Deep Neural Network Library (oneDNN) to use the following CPU instructions in performance-critical operations:  AVX2 FMA\n",
      "To enable them in other operations, rebuild TensorFlow with the appropriate compiler flags.\n",
      "/opt/app-root/lib64/python3.8/site-packages/tensorflow_decision_forests/keras/core.py:2574: FutureWarning: In a future version of pandas all arguments of DataFrame.drop except for the argument 'labels' will be keyword-only.\n",
      "  features_dataframe = dataframe.drop(label, 1)\n"
     ]
    }
   ],
   "source": [
    "train_ds = tfdf.keras.pd_dataframe_to_tf_dataset(train_ds, label=label)\n",
    "test_ds = tfdf.keras.pd_dataframe_to_tf_dataset(test_ds, label=label)"
   ]
  },
  {
   "cell_type": "markdown",
   "id": "4d694ed9-d4df-41a2-a37d-1cddafd3511f",
   "metadata": {},
   "source": [
    "## Train the model"
   ]
  },
  {
   "cell_type": "markdown",
   "id": "db7c9d69-b650-4775-8c45-4d79c0a0a6cd",
   "metadata": {},
   "source": [
    "Notes for training:\n",
    "-  No input features are specified. Therefore, all the columns will be used as input features except for the label. The feature used by the model are shown in the training logs and in the model.summary().\n",
    "- DFs consume natively numerical, categorical, categorical-set features and missing-values. Numerical features do not need to be normalized. Categorical string values do not need to be encoded in a dictionary.\n",
    "- No training hyper-parameters are specified. Therefore the default hyper-parameters will be used. Default hyper-parameters provide reasonable results in most situations.\n",
    "- Calling compile on the model before the fit is optional. Compile can be used to provide extra evaluation metrics.\n",
    "- Training algorithms do not need validation datasets. If a validation dataset is provided, it will only be used to show metrics.\n",
    "- Add a verbose argument to RandomForestModel to control the amount of displayed training logs. Set verbose=0 to hide most of the logs. Set verbose=2 to show all the logs."
   ]
  },
  {
   "cell_type": "code",
   "execution_count": 11,
   "id": "535a3323-80f9-406e-92bc-bf70d6b1d9f7",
   "metadata": {},
   "outputs": [
    {
     "name": "stdout",
     "output_type": "stream",
     "text": [
      "Use /tmp/tmpjmtxegy5 as temporary training directory\n",
      "Reading training dataset...\n",
      "Training dataset read in 0:00:04.994846. Found 80000 examples.\n",
      "Training model...\n"
     ]
    },
    {
     "name": "stderr",
     "output_type": "stream",
     "text": [
      "[INFO kernel.cc:1176] Loading model from path /tmp/tmpjmtxegy5/model/ with prefix 6e18fa0793634313\n"
     ]
    },
    {
     "name": "stdout",
     "output_type": "stream",
     "text": [
      "Model trained in 0:00:12.598812\n",
      "Compiling model...\n"
     ]
    },
    {
     "name": "stderr",
     "output_type": "stream",
     "text": [
      "[INFO abstract_model.cc:1248] Engine \"RandomForestOptPred\" built\n",
      "[INFO kernel.cc:1022] Use fast generic engine\n"
     ]
    },
    {
     "name": "stdout",
     "output_type": "stream",
     "text": [
      "WARNING:tensorflow:AutoGraph could not transform <function simple_ml_inference_op_with_handle at 0x7f2499f2e040> and will run it as-is.\n",
      "Please report this to the TensorFlow team. When filing the bug, set the verbosity to 10 (on Linux, `export AUTOGRAPH_VERBOSITY=10`) and attach the full output.\n",
      "Cause: could not get source code\n",
      "To silence this warning, decorate the function with @tf.autograph.experimental.do_not_convert\n"
     ]
    },
    {
     "name": "stderr",
     "output_type": "stream",
     "text": [
      "WARNING:tensorflow:AutoGraph could not transform <function simple_ml_inference_op_with_handle at 0x7f2499f2e040> and will run it as-is.\n",
      "Please report this to the TensorFlow team. When filing the bug, set the verbosity to 10 (on Linux, `export AUTOGRAPH_VERBOSITY=10`) and attach the full output.\n",
      "Cause: could not get source code\n",
      "To silence this warning, decorate the function with @tf.autograph.experimental.do_not_convert\n"
     ]
    },
    {
     "name": "stdout",
     "output_type": "stream",
     "text": [
      "WARNING: AutoGraph could not transform <function simple_ml_inference_op_with_handle at 0x7f2499f2e040> and will run it as-is.\n",
      "Please report this to the TensorFlow team. When filing the bug, set the verbosity to 10 (on Linux, `export AUTOGRAPH_VERBOSITY=10`) and attach the full output.\n",
      "Cause: could not get source code\n",
      "To silence this warning, decorate the function with @tf.autograph.experimental.do_not_convert\n",
      "Model compiled.\n"
     ]
    },
    {
     "data": {
      "text/plain": [
       "<keras.callbacks.History at 0x7f2497846280>"
      ]
     },
     "execution_count": 11,
     "metadata": {},
     "output_type": "execute_result"
    }
   ],
   "source": [
    "# Specify the model.\n",
    "model = tfdf.keras.RandomForestModel()\n",
    "\n",
    "# other optional forest models available\n",
    "#model = tfdf.keras.GradientBoostedTreesModel(num_trees=1500)\n",
    "#model = tfdf.keras.CartModel\n",
    "\n",
    "# Train the model.\n",
    "model.fit(x=train_ds)"
   ]
  },
  {
   "cell_type": "markdown",
   "id": "3bde8cf1-9e00-40f5-a525-64e718977dfd",
   "metadata": {
    "tags": []
   },
   "source": [
    "## Analyze the model\n",
    "The overall structure of the model is show with `.summary().` You will see:\n",
    "\n",
    "- Type: The learning algorithm used to train the model (Random Forest in our case).\n",
    "- Task: The problem solved by the model (Classification in our case).\n",
    "- Input Features: The input features of the model.\n",
    "- Variable Importance: Different measures of the importance of each feature for the model.\n",
    "- Out-of-bag evaluation: The out-of-bag evaluation of the model. This is a cheap and efficient alternative to cross-validation.\n",
    "- Number of {trees, nodes} and other metrics: Statistics about the structure of the decisions forests.\n",
    "- Remark: The summary's content depends on the learning algorithm (e.g. Out-of-bag is only available for Random Forest) and the hyper-parameters (e.g. the mean-decrease-in-accuracy variable importance can be disabled in the hyper-parameters)."
   ]
  },
  {
   "cell_type": "code",
   "execution_count": 12,
   "id": "fd16fab9-f4fb-4ae2-9c80-4bf48242c4b0",
   "metadata": {},
   "outputs": [
    {
     "name": "stdout",
     "output_type": "stream",
     "text": [
      "Model: \"random_forest_model\"\n",
      "_________________________________________________________________\n",
      " Layer (type)                Output Shape              Param #   \n",
      "=================================================================\n",
      "=================================================================\n",
      "Total params: 1\n",
      "Trainable params: 0\n",
      "Non-trainable params: 1\n",
      "_________________________________________________________________\n",
      "Type: \"RANDOM_FOREST\"\n",
      "Task: CLASSIFICATION\n",
      "Label: \"__LABEL\"\n",
      "\n",
      "Input Features (3):\n",
      "\tHR\n",
      "\tResp\n",
      "\tWBC\n",
      "\n",
      "No weights\n",
      "\n",
      "Variable Importance: MEAN_MIN_DEPTH:\n",
      "    1. \"__LABEL\" 13.179430 ################\n",
      "    2.     \"WBC\"  1.796759 ##\n",
      "    3.    \"Resp\"  1.374047 #\n",
      "    4.      \"HR\"  0.000000 \n",
      "\n",
      "Variable Importance: NUM_AS_ROOT:\n",
      "    1. \"HR\" 300.000000 \n",
      "\n",
      "Variable Importance: NUM_NODES:\n",
      "    1.  \"WBC\" 132181.000000 ################\n",
      "    2.   \"HR\" 78177.000000 ######\n",
      "    3. \"Resp\" 44226.000000 \n",
      "\n",
      "Variable Importance: SUM_SCORE:\n",
      "    1.  \"WBC\" 2006476.463332 ################\n",
      "    2. \"Resp\" 663545.712506 \n",
      "    3.   \"HR\" 620914.204340 \n",
      "\n",
      "\n",
      "\n",
      "Winner take all: true\n",
      "Out-of-bag evaluation: accuracy:0.956762 logloss:0.858544\n",
      "Number of trees: 300\n",
      "Total number of nodes: 509468\n",
      "\n",
      "Number of nodes by tree:\n",
      "Count: 300 Average: 1698.23 StdDev: 198.659\n",
      "Min: 1189 Max: 2249 Ignored: 0\n",
      "----------------------------------------------\n",
      "[ 1189, 1242)  2   0.67%   0.67% #\n",
      "[ 1242, 1295)  4   1.33%   2.00% #\n",
      "[ 1295, 1348)  6   2.00%   4.00% ##\n",
      "[ 1348, 1401)  6   2.00%   6.00% ##\n",
      "[ 1401, 1454) 15   5.00%  11.00% ####\n",
      "[ 1454, 1507) 16   5.33%  16.33% ####\n",
      "[ 1507, 1560) 24   8.00%  24.33% ######\n",
      "[ 1560, 1613) 24   8.00%  32.33% ######\n",
      "[ 1613, 1666) 39  13.00%  45.33% ##########\n",
      "[ 1666, 1719) 28   9.33%  54.67% #######\n",
      "[ 1719, 1772) 23   7.67%  62.33% ######\n",
      "[ 1772, 1825) 39  13.00%  75.33% ##########\n",
      "[ 1825, 1878) 21   7.00%  82.33% #####\n",
      "[ 1878, 1931) 17   5.67%  88.00% ####\n",
      "[ 1931, 1984) 13   4.33%  92.33% ###\n",
      "[ 1984, 2037)  8   2.67%  95.00% ##\n",
      "[ 2037, 2090)  8   2.67%  97.67% ##\n",
      "[ 2090, 2143)  2   0.67%  98.33% #\n",
      "[ 2143, 2196)  2   0.67%  99.00% #\n",
      "[ 2196, 2249]  3   1.00% 100.00% #\n",
      "\n",
      "Depth by leafs:\n",
      "Count: 254884 Average: 13.1863 StdDev: 2.17401\n",
      "Min: 2 Max: 15 Ignored: 0\n",
      "----------------------------------------------\n",
      "[  2,  3)    300   0.12%   0.12%\n",
      "[  3,  4)    597   0.23%   0.35%\n",
      "[  4,  5)    636   0.25%   0.60%\n",
      "[  5,  6)    159   0.06%   0.66%\n",
      "[  6,  7)    858   0.34%   1.00%\n",
      "[  7,  8)   2392   0.94%   1.94%\n",
      "[  8,  9)   4733   1.86%   3.80%\n",
      "[  9, 10)   8360   3.28%   7.08% #\n",
      "[ 10, 11)  13398   5.26%  12.33% #\n",
      "[ 11, 12)  19432   7.62%  19.96% ##\n",
      "[ 12, 13)  25972  10.19%  30.15% ###\n",
      "[ 13, 14)  34318  13.46%  43.61% ###\n",
      "[ 14, 15)  41207  16.17%  59.78% ####\n",
      "[ 15, 15] 102522  40.22% 100.00% ##########\n",
      "\n",
      "Number of training obs by leaf:\n",
      "Count: 254884 Average: 94.1605 StdDev: 634.769\n",
      "Min: 5 Max: 15089 Ignored: 0\n",
      "----------------------------------------------\n",
      "[     5,   759) 250845  98.42%  98.42% ##########\n",
      "[   759,  1513)   1401   0.55%  98.97%\n",
      "[  1513,  2267)    731   0.29%  99.25%\n",
      "[  2267,  3022)    190   0.07%  99.33%\n",
      "[  3022,  3776)     90   0.04%  99.36%\n",
      "[  3776,  4530)     61   0.02%  99.39%\n",
      "[  4530,  5284)   1228   0.48%  99.87%\n",
      "[  5284,  6039)     22   0.01%  99.88%\n",
      "[  6039,  6793)      9   0.00%  99.88%\n",
      "[  6793,  7547)      5   0.00%  99.88%\n",
      "[  7547,  8301)      2   0.00%  99.88%\n",
      "[  8301,  9056)      0   0.00%  99.88%\n",
      "[  9056,  9810)      0   0.00%  99.88%\n",
      "[  9810, 10564)      0   0.00%  99.88%\n",
      "[ 10564, 11318)      0   0.00%  99.88%\n",
      "[ 11318, 12073)      0   0.00%  99.88%\n",
      "[ 12073, 12827)      0   0.00%  99.88%\n",
      "[ 12827, 13581)      0   0.00%  99.88%\n",
      "[ 13581, 14335)      0   0.00%  99.88%\n",
      "[ 14335, 15089]    300   0.12% 100.00%\n",
      "\n",
      "Attribute in nodes:\n",
      "\t132181 : WBC [NUMERICAL]\n",
      "\t78177 : HR [NUMERICAL]\n",
      "\t44226 : Resp [NUMERICAL]\n",
      "\n",
      "Attribute in nodes with depth <= 0:\n",
      "\t300 : HR [NUMERICAL]\n",
      "\n",
      "Attribute in nodes with depth <= 1:\n",
      "\t300 : WBC [NUMERICAL]\n",
      "\t300 : Resp [NUMERICAL]\n",
      "\t300 : HR [NUMERICAL]\n",
      "\n",
      "Attribute in nodes with depth <= 2:\n",
      "\t1154 : WBC [NUMERICAL]\n",
      "\t346 : Resp [NUMERICAL]\n",
      "\t300 : HR [NUMERICAL]\n",
      "\n",
      "Attribute in nodes with depth <= 3:\n",
      "\t1973 : WBC [NUMERICAL]\n",
      "\t664 : Resp [NUMERICAL]\n",
      "\t366 : HR [NUMERICAL]\n",
      "\n",
      "Attribute in nodes with depth <= 5:\n",
      "\t4576 : WBC [NUMERICAL]\n",
      "\t1841 : HR [NUMERICAL]\n",
      "\t1737 : Resp [NUMERICAL]\n",
      "\n",
      "Condition type in nodes:\n",
      "\t254584 : HigherCondition\n",
      "Condition type in nodes with depth <= 0:\n",
      "\t300 : HigherCondition\n",
      "Condition type in nodes with depth <= 1:\n",
      "\t900 : HigherCondition\n",
      "Condition type in nodes with depth <= 2:\n",
      "\t1800 : HigherCondition\n",
      "Condition type in nodes with depth <= 3:\n",
      "\t3003 : HigherCondition\n",
      "Condition type in nodes with depth <= 5:\n",
      "\t8154 : HigherCondition\n",
      "Node format: NOT_SET\n",
      "\n",
      "Training OOB:\n",
      "\ttrees: 1, Out-of-bag evaluation: accuracy:0.952739 logloss:1.70345\n",
      "\ttrees: 11, Out-of-bag evaluation: accuracy:0.956257 logloss:1.4499\n",
      "\ttrees: 21, Out-of-bag evaluation: accuracy:0.956477 logloss:1.3941\n",
      "\ttrees: 31, Out-of-bag evaluation: accuracy:0.956725 logloss:1.33515\n",
      "\ttrees: 41, Out-of-bag evaluation: accuracy:0.9567 logloss:1.28966\n",
      "\ttrees: 54, Out-of-bag evaluation: accuracy:0.95665 logloss:1.25071\n",
      "\ttrees: 64, Out-of-bag evaluation: accuracy:0.956725 logloss:1.21181\n",
      "\ttrees: 74, Out-of-bag evaluation: accuracy:0.956712 logloss:1.18051\n",
      "\ttrees: 86, Out-of-bag evaluation: accuracy:0.956725 logloss:1.16195\n",
      "\ttrees: 96, Out-of-bag evaluation: accuracy:0.956725 logloss:1.13048\n",
      "\ttrees: 106, Out-of-bag evaluation: accuracy:0.956762 logloss:1.11079\n",
      "\ttrees: 116, Out-of-bag evaluation: accuracy:0.956712 logloss:1.09063\n",
      "\ttrees: 126, Out-of-bag evaluation: accuracy:0.956762 logloss:1.07501\n",
      "\ttrees: 136, Out-of-bag evaluation: accuracy:0.956775 logloss:1.05487\n",
      "\ttrees: 146, Out-of-bag evaluation: accuracy:0.956725 logloss:1.0348\n",
      "\ttrees: 156, Out-of-bag evaluation: accuracy:0.956725 logloss:1.01959\n",
      "\ttrees: 168, Out-of-bag evaluation: accuracy:0.95675 logloss:1.00706\n",
      "\ttrees: 178, Out-of-bag evaluation: accuracy:0.956712 logloss:0.986018\n",
      "\ttrees: 188, Out-of-bag evaluation: accuracy:0.956725 logloss:0.971203\n",
      "\ttrees: 198, Out-of-bag evaluation: accuracy:0.956738 logloss:0.960338\n",
      "\ttrees: 208, Out-of-bag evaluation: accuracy:0.956738 logloss:0.945504\n",
      "\ttrees: 219, Out-of-bag evaluation: accuracy:0.956738 logloss:0.936186\n",
      "\ttrees: 232, Out-of-bag evaluation: accuracy:0.956738 logloss:0.927388\n",
      "\ttrees: 242, Out-of-bag evaluation: accuracy:0.95675 logloss:0.915086\n",
      "\ttrees: 252, Out-of-bag evaluation: accuracy:0.956775 logloss:0.902701\n",
      "\ttrees: 262, Out-of-bag evaluation: accuracy:0.956762 logloss:0.890714\n",
      "\ttrees: 272, Out-of-bag evaluation: accuracy:0.95675 logloss:0.88188\n",
      "\ttrees: 282, Out-of-bag evaluation: accuracy:0.956738 logloss:0.873944\n",
      "\ttrees: 292, Out-of-bag evaluation: accuracy:0.956762 logloss:0.864642\n",
      "\ttrees: 300, Out-of-bag evaluation: accuracy:0.956762 logloss:0.858544\n",
      "\n"
     ]
    }
   ],
   "source": [
    "model.summary()"
   ]
  },
  {
   "cell_type": "markdown",
   "id": "40b9a224-6e95-49ac-a2ac-e15dc16e1d5a",
   "metadata": {},
   "source": [
    "Plotting of decision forest models.\n",
    "\n",
    "The root node on the left contains the first condition (HR >= 38.5500), number of examples (80000) and label distribution (the red-blue-green bar).\n",
    "\n",
    "Examples that evaluates true to WBC >= 11.9850 are branched to the green path. The other ones are branched to the red path.\n",
    "\n",
    "The deeper the node, the more pure they become i.e. the label distribution is biased toward a subset of classes.\n",
    "\n",
    "In this tree:\n",
    "- The colors red represents not septic (0) and blue represents septic (1).\n",
    "- The first decision is based on HR. \n",
    "- As you move further into the forest, look for the decision where the blue (Septic) records becomes more obvious."
   ]
  },
  {
   "cell_type": "code",
   "execution_count": 13,
   "id": "eb781eaf-1551-427f-836c-b0bb727e6b63",
   "metadata": {},
   "outputs": [
    {
     "data": {
      "text/html": [
       "\n",
       "<script src=\"https://d3js.org/d3.v6.min.js\"></script>\n",
       "<div id=\"tree_plot_d11840969ba24ecfbc183b0465df1351\"></div>\n",
       "<script>\n",
       "/*\n",
       " * Copyright 2021 Google LLC.\n",
       " * Licensed under the Apache License, Version 2.0 (the \"License\");\n",
       " * you may not use this file except in compliance with the License.\n",
       " * You may obtain a copy of the License at\n",
       " *\n",
       " *     https://www.apache.org/licenses/LICENSE-2.0\n",
       " *\n",
       " * Unless required by applicable law or agreed to in writing, software\n",
       " * distributed under the License is distributed on an \"AS IS\" BASIS,\n",
       " * WITHOUT WARRANTIES OR CONDITIONS OF ANY KIND, either express or implied.\n",
       " * See the License for the specific language governing permissions and\n",
       " * limitations under the License.\n",
       " */\n",
       "\n",
       "/**\n",
       " *  Plotting of decision trees generated by TF-DF.\n",
       " *\n",
       " *  A tree is a recursive structure of node objects.\n",
       " *  A node contains one or more of the following components:\n",
       " *\n",
       " *    - A value: Representing the output of the node. If the node is not a leaf,\n",
       " *      the value is only present for analysis i.e. it is not used for\n",
       " *      predictions.\n",
       " *\n",
       " *    - A condition : For non-leaf nodes, the condition (also known as split)\n",
       " *      defines a binary test to branch to the positive or negative child.\n",
       " *\n",
       " *    - An explanation: Generally a plot showing the relation between the label\n",
       " *      and the condition to give insights about the effect of the condition.\n",
       " *\n",
       " *    - Two children : For non-leaf nodes, the children nodes. The first\n",
       " *      children (i.e. \"node.children[0]\") is the negative children (drawn in\n",
       " *      red). The second children is the positive one (drawn in green).\n",
       " *\n",
       " */\n",
       "\n",
       "/**\n",
       " * Plots a single decision tree into a DOM element.\n",
       " * @param {!options} options Dictionary of configurations.\n",
       " * @param {!tree} raw_tree Recursive tree structure.\n",
       " * @param {string} canvas_id Id of the output dom element.\n",
       " */\n",
       "function display_tree(options, raw_tree, canvas_id) {\n",
       "  console.log(options);\n",
       "\n",
       "  // Determine the node placement.\n",
       "  const tree_struct = d3.tree().nodeSize(\n",
       "      [options.node_y_offset, options.node_x_offset])(d3.hierarchy(raw_tree));\n",
       "\n",
       "  // Boundaries of the node placement.\n",
       "  let x_min = Infinity;\n",
       "  let x_max = -x_min;\n",
       "  let y_min = Infinity;\n",
       "  let y_max = -x_min;\n",
       "\n",
       "  tree_struct.each(d => {\n",
       "    if (d.x > x_max) x_max = d.x;\n",
       "    if (d.x < x_min) x_min = d.x;\n",
       "    if (d.y > y_max) y_max = d.y;\n",
       "    if (d.y < y_min) y_min = d.y;\n",
       "  });\n",
       "\n",
       "  // Size of the plot.\n",
       "  const width = y_max - y_min + options.node_x_size + options.margin * 2;\n",
       "  const height = x_max - x_min + options.node_y_size + options.margin * 2 +\n",
       "      options.node_y_offset - options.node_y_size;\n",
       "\n",
       "  const plot = d3.select(canvas_id);\n",
       "\n",
       "  // Tool tip\n",
       "  options.tooltip = plot.append('div')\n",
       "                        .attr('width', 100)\n",
       "                        .attr('height', 100)\n",
       "                        .style('padding', '4px')\n",
       "                        .style('background', '#fff')\n",
       "                        .style('box-shadow', '4px 4px 0px rgba(0,0,0,0.1)')\n",
       "                        .style('border', '1px solid black')\n",
       "                        .style('font-family', 'sans-serif')\n",
       "                        .style('font-size', options.font_size)\n",
       "                        .style('position', 'absolute')\n",
       "                        .style('z-index', '10')\n",
       "                        .attr('pointer-events', 'none')\n",
       "                        .style('display', 'none');\n",
       "\n",
       "  // Create canvas\n",
       "  const svg = plot.append('svg').attr('width', width).attr('height', height);\n",
       "  const graph =\n",
       "      svg.style('overflow', 'visible')\n",
       "          .append('g')\n",
       "          .attr('font-family', 'sans-serif')\n",
       "          .attr('font-size', options.font_size)\n",
       "          .attr(\n",
       "              'transform',\n",
       "              () => `translate(${options.margin},${\n",
       "                  - x_min + options.node_y_offset / 2 + options.margin})`);\n",
       "\n",
       "  // Plot bounding box.\n",
       "  if (options.show_plot_bounding_box) {\n",
       "    svg.append('rect')\n",
       "        .attr('width', width)\n",
       "        .attr('height', height)\n",
       "        .attr('fill', 'none')\n",
       "        .attr('stroke-width', 1.0)\n",
       "        .attr('stroke', 'black');\n",
       "  }\n",
       "\n",
       "  // Draw the edges.\n",
       "  display_edges(options, graph, tree_struct);\n",
       "\n",
       "  // Draw the nodes.\n",
       "  display_nodes(options, graph, tree_struct);\n",
       "}\n",
       "\n",
       "/**\n",
       " * Draw the nodes of the tree.\n",
       " * @param {!options} options Dictionary of configurations.\n",
       " * @param {!graph} graph D3 search handle containing the graph.\n",
       " * @param {!tree_struct} tree_struct Structure of the tree (node placement,\n",
       " *     data, etc.).\n",
       " */\n",
       "function display_nodes(options, graph, tree_struct) {\n",
       "  const nodes = graph.append('g')\n",
       "                    .selectAll('g')\n",
       "                    .data(tree_struct.descendants())\n",
       "                    .join('g')\n",
       "                    .attr('transform', d => `translate(${d.y},${d.x})`);\n",
       "\n",
       "  nodes.append('rect')\n",
       "      .attr('x', 0.5)\n",
       "      .attr('y', 0.5)\n",
       "      .attr('width', options.node_x_size)\n",
       "      .attr('height', options.node_y_size)\n",
       "      .attr('stroke', 'lightgrey')\n",
       "      .attr('stroke-width', 1)\n",
       "      .attr('fill', 'white')\n",
       "      .attr('y', -options.node_y_size / 2);\n",
       "\n",
       "  // Brackets on the right of condition nodes without children.\n",
       "  non_leaf_node_without_children =\n",
       "      nodes.filter(node => node.data.condition != null && node.children == null)\n",
       "          .append('g')\n",
       "          .attr('transform', `translate(${options.node_x_size},0)`);\n",
       "\n",
       "  non_leaf_node_without_children.append('path')\n",
       "      .attr('d', 'M0,0 C 10,0 0,10 10,10')\n",
       "      .attr('fill', 'none')\n",
       "      .attr('stroke-width', 1.0)\n",
       "      .attr('stroke', '#F00');\n",
       "\n",
       "  non_leaf_node_without_children.append('path')\n",
       "      .attr('d', 'M0,0 C 10,0 0,-10 10,-10')\n",
       "      .attr('fill', 'none')\n",
       "      .attr('stroke-width', 1.0)\n",
       "      .attr('stroke', '#0F0');\n",
       "\n",
       "  const node_content = nodes.append('g').attr(\n",
       "      'transform',\n",
       "      `translate(0,${options.node_padding - options.node_y_size / 2})`);\n",
       "\n",
       "  node_content.append(node => create_node_element(options, node));\n",
       "}\n",
       "\n",
       "/**\n",
       " * Creates the D3 content for a single node.\n",
       " * @param {!options} options Dictionary of configurations.\n",
       " * @param {!node} node Node to draw.\n",
       " * @return {!d3} D3 content.\n",
       " */\n",
       "function create_node_element(options, node) {\n",
       "  // Output accumulator.\n",
       "  let output = {\n",
       "    // Content to draw.\n",
       "    content: d3.create('svg:g'),\n",
       "    // Vertical offset to the next element to draw.\n",
       "    vertical_offset: 0\n",
       "  };\n",
       "\n",
       "  // Conditions.\n",
       "  if (node.data.condition != null) {\n",
       "    display_condition(options, node.data.condition, output);\n",
       "  }\n",
       "\n",
       "  // Values.\n",
       "  if (node.data.value != null) {\n",
       "    display_value(options, node.data.value, output);\n",
       "  }\n",
       "\n",
       "  // Explanations.\n",
       "  if (node.data.explanation != null) {\n",
       "    display_explanation(options, node.data.explanation, output);\n",
       "  }\n",
       "\n",
       "  return output.content.node();\n",
       "}\n",
       "\n",
       "\n",
       "/**\n",
       " * Adds a single line of text inside of a node.\n",
       " * @param {!options} options Dictionary of configurations.\n",
       " * @param {string} text Text to display.\n",
       " * @param {!output} output Output display accumulator.\n",
       " */\n",
       "function display_node_text(options, text, output) {\n",
       "  output.content.append('text')\n",
       "      .attr('x', options.node_padding)\n",
       "      .attr('y', output.vertical_offset)\n",
       "      .attr('alignment-baseline', 'hanging')\n",
       "      .text(text);\n",
       "  output.vertical_offset += 10;\n",
       "}\n",
       "\n",
       "/**\n",
       " * Adds a single line of text inside of a node with a tooltip.\n",
       " * @param {!options} options Dictionary of configurations.\n",
       " * @param {string} text Text to display.\n",
       " * @param {string} tooltip Text in the Tooltip.\n",
       " * @param {!output} output Output display accumulator.\n",
       " */\n",
       "function display_node_text_with_tooltip(options, text, tooltip, output) {\n",
       "  const item = output.content.append('text')\n",
       "                   .attr('x', options.node_padding)\n",
       "                   .attr('alignment-baseline', 'hanging')\n",
       "                   .text(text);\n",
       "\n",
       "  add_tooltip(options, item, () => tooltip);\n",
       "  output.vertical_offset += 10;\n",
       "}\n",
       "\n",
       "/**\n",
       " * Adds a tooltip to a dom element.\n",
       " * @param {!options} options Dictionary of configurations.\n",
       " * @param {!dom} target Dom element to equip with a tooltip.\n",
       " * @param {!func} get_content Generates the html content of the tooltip.\n",
       " */\n",
       "function add_tooltip(options, target, get_content) {\n",
       "  function show(d) {\n",
       "    options.tooltip.style('display', 'block');\n",
       "    options.tooltip.html(get_content());\n",
       "  }\n",
       "\n",
       "  function hide(d) {\n",
       "    options.tooltip.style('display', 'none');\n",
       "  }\n",
       "\n",
       "  function move(d) {\n",
       "    options.tooltip.style('display', 'block');\n",
       "    options.tooltip.style('left', (d.pageX + 5) + 'px');\n",
       "    options.tooltip.style('top', d.pageY + 'px');\n",
       "  }\n",
       "\n",
       "  target.on('mouseover', show);\n",
       "  target.on('mouseout', hide);\n",
       "  target.on('mousemove', move);\n",
       "}\n",
       "\n",
       "/**\n",
       " * Adds a condition inside of a node.\n",
       " * @param {!options} options Dictionary of configurations.\n",
       " * @param {!condition} condition Condition to display.\n",
       " * @param {!output} output Output display accumulator.\n",
       " */\n",
       "function display_condition(options, condition, output) {\n",
       "  threshold_format = d3.format('r');\n",
       "\n",
       "  if (condition.type === 'IS_MISSING') {\n",
       "    display_node_text(options, `${condition.attribute} is missing`, output);\n",
       "    return;\n",
       "  }\n",
       "\n",
       "  if (condition.type === 'IS_TRUE') {\n",
       "    display_node_text(options, `${condition.attribute} is true`, output);\n",
       "    return;\n",
       "  }\n",
       "\n",
       "  if (condition.type === 'NUMERICAL_IS_HIGHER_THAN') {\n",
       "    format = d3.format('r');\n",
       "    display_node_text(\n",
       "        options,\n",
       "        `${condition.attribute} >= ${threshold_format(condition.threshold)}`,\n",
       "        output);\n",
       "    return;\n",
       "  }\n",
       "\n",
       "  if (condition.type === 'CATEGORICAL_IS_IN') {\n",
       "    display_node_text_with_tooltip(\n",
       "        options, `${condition.attribute} in [...]`,\n",
       "        `${condition.attribute} in [${condition.mask}]`, output);\n",
       "    return;\n",
       "  }\n",
       "\n",
       "  if (condition.type === 'CATEGORICAL_SET_CONTAINS') {\n",
       "    display_node_text_with_tooltip(\n",
       "        options, `${condition.attribute} intersect [...]`,\n",
       "        `${condition.attribute} intersect [${condition.mask}]`, output);\n",
       "    return;\n",
       "  }\n",
       "\n",
       "  if (condition.type === 'NUMERICAL_SPARSE_OBLIQUE') {\n",
       "    display_node_text_with_tooltip(\n",
       "        options, `Sparse oblique split...`,\n",
       "        `[${condition.attributes}]*[${condition.weights}]>=${\n",
       "            threshold_format(condition.threshold)}`,\n",
       "        output);\n",
       "    return;\n",
       "  }\n",
       "\n",
       "  display_node_text(\n",
       "      options, `Non supported condition ${condition.type}`, output);\n",
       "}\n",
       "\n",
       "/**\n",
       " * Adds a value inside of a node.\n",
       " * @param {!options} options Dictionary of configurations.\n",
       " * @param {!value} value Value to display.\n",
       " * @param {!output} output Output display accumulator.\n",
       " */\n",
       "function display_value(options, value, output) {\n",
       "  if (value.type === 'PROBABILITY') {\n",
       "    const left_margin = 0;\n",
       "    const right_margin = 50;\n",
       "    const plot_width = options.node_x_size - options.node_padding * 2 -\n",
       "        left_margin - right_margin;\n",
       "\n",
       "    let cusum = Array.from(d3.cumsum(value.distribution));\n",
       "    cusum.unshift(0);\n",
       "    const distribution_plot = output.content.append('g').attr(\n",
       "        'transform', `translate(0,${output.vertical_offset + 0.5})`);\n",
       "\n",
       "    distribution_plot.selectAll('rect')\n",
       "        .data(value.distribution)\n",
       "        .join('rect')\n",
       "        .attr('height', 10)\n",
       "        .attr(\n",
       "            'x',\n",
       "            (d, i) =>\n",
       "                (cusum[i] * plot_width + left_margin + options.node_padding))\n",
       "        .attr('width', (d, i) => d * plot_width)\n",
       "        .style('fill', (d, i) => d3.schemeSet1[i]);\n",
       "\n",
       "    const num_examples =\n",
       "        output.content.append('g')\n",
       "            .attr('transform', `translate(0,${output.vertical_offset})`)\n",
       "            .append('text')\n",
       "            .attr('x', options.node_x_size - options.node_padding)\n",
       "            .attr('alignment-baseline', 'hanging')\n",
       "            .attr('text-anchor', 'end')\n",
       "            .text(`(${value.num_examples})`);\n",
       "\n",
       "    const distribution_details = d3.create('ul');\n",
       "    distribution_details.selectAll('li')\n",
       "        .data(value.distribution)\n",
       "        .join('li')\n",
       "        .append('span')\n",
       "        .text(\n",
       "            (d, i) =>\n",
       "                'class ' + i + ': ' + d3.format('.3%')(value.distribution[i]));\n",
       "\n",
       "    add_tooltip(options, distribution_plot, () => distribution_details.html());\n",
       "    add_tooltip(options, num_examples, () => 'Number of examples');\n",
       "\n",
       "    output.vertical_offset += 10;\n",
       "    return;\n",
       "  }\n",
       "\n",
       "  if (value.type === 'REGRESSION') {\n",
       "    display_node_text(\n",
       "        options,\n",
       "        'value: ' + d3.format('r')(value.value) + ` (` +\n",
       "            d3.format('.6')(value.num_examples) + `)`,\n",
       "        output);\n",
       "    return;\n",
       "  }\n",
       "\n",
       "  display_node_text(options, `Non supported value ${value.type}`, output);\n",
       "}\n",
       "\n",
       "/**\n",
       " * Adds an explanation inside of a node.\n",
       " * @param {!options} options Dictionary of configurations.\n",
       " * @param {!explanation} explanation Explanation to display.\n",
       " * @param {!output} output Output display accumulator.\n",
       " */\n",
       "function display_explanation(options, explanation, output) {\n",
       "  // Margin before the explanation.\n",
       "  output.vertical_offset += 10;\n",
       "\n",
       "  display_node_text(\n",
       "      options, `Non supported explanation ${explanation.type}`, output);\n",
       "}\n",
       "\n",
       "\n",
       "/**\n",
       " * Draw the edges of the tree.\n",
       " * @param {!options} options Dictionary of configurations.\n",
       " * @param {!graph} graph D3 search handle containing the graph.\n",
       " * @param {!tree_struct} tree_struct Structure of the tree (node placement,\n",
       " *     data, etc.).\n",
       " */\n",
       "function display_edges(options, graph, tree_struct) {\n",
       "  // Draw an edge between a parent and a child node with a bezier.\n",
       "  function draw_single_edge(d) {\n",
       "    return 'M' + (d.source.y + options.node_x_size) + ',' + d.source.x + ' C' +\n",
       "        (d.source.y + options.node_x_size + options.edge_rounding) + ',' +\n",
       "        d.source.x + ' ' + (d.target.y - options.edge_rounding) + ',' +\n",
       "        d.target.x + ' ' + d.target.y + ',' + d.target.x;\n",
       "  }\n",
       "\n",
       "  graph.append('g')\n",
       "      .attr('fill', 'none')\n",
       "      .attr('stroke-width', 1.2)\n",
       "      .selectAll('path')\n",
       "      .data(tree_struct.links())\n",
       "      .join('path')\n",
       "      .attr('d', draw_single_edge)\n",
       "      .attr(\n",
       "          'stroke', d => (d.target === d.source.children[0]) ? '#0F0' : '#F00');\n",
       "}\n",
       "\n",
       "display_tree({\"margin\": 10, \"node_x_size\": 160, \"node_y_size\": 28, \"node_x_offset\": 180, \"node_y_offset\": 33, \"font_size\": 10, \"edge_rounding\": 20, \"node_padding\": 2, \"show_plot_bounding_box\": false}, {\"value\": {\"type\": \"PROBABILITY\", \"distribution\": [0.92915, 0.07085], \"num_examples\": 80000.0}, \"condition\": {\"type\": \"NUMERICAL_IS_HIGHER_THAN\", \"attribute\": \"HR\", \"threshold\": 90.5}, \"children\": [{\"value\": {\"type\": \"PROBABILITY\", \"distribution\": [0.9769643866591294, 0.023035613340870547], \"num_examples\": 35380.0}, \"condition\": {\"type\": \"NUMERICAL_IS_HIGHER_THAN\", \"attribute\": \"WBC\", \"threshold\": 11.984999656677246}, \"children\": [{\"value\": {\"type\": \"PROBABILITY\", \"distribution\": [1.0, 0.0], \"num_examples\": 14898.0}}, {\"value\": {\"type\": \"PROBABILITY\", \"distribution\": [0.9602089639683624, 0.039791036031637535], \"num_examples\": 20482.0}, \"condition\": {\"type\": \"NUMERICAL_IS_HIGHER_THAN\", \"attribute\": \"WBC\", \"threshold\": 4.025000095367432}, \"children\": [{\"value\": {\"type\": \"PROBABILITY\", \"distribution\": [0.9476490236382322, 0.05235097636176773], \"num_examples\": 15568.0}, \"condition\": {\"type\": \"NUMERICAL_IS_HIGHER_THAN\", \"attribute\": \"Resp\", \"threshold\": 20.5}, \"children\": [{\"value\": {\"type\": \"PROBABILITY\", \"distribution\": [1.0, 0.0], \"num_examples\": 4783.0}}, {\"value\": {\"type\": \"PROBABILITY\", \"distribution\": [0.9244320815948076, 0.07556791840519239], \"num_examples\": 10785.0}, \"condition\": {\"type\": \"NUMERICAL_IS_HIGHER_THAN\", \"attribute\": \"WBC\", \"threshold\": 4.034999847412109}}]}, {\"value\": {\"type\": \"PROBABILITY\", \"distribution\": [1.0, 0.0], \"num_examples\": 4914.0}}]}]}, {\"value\": {\"type\": \"PROBABILITY\", \"distribution\": [0.8912371134020619, 0.10876288659793815], \"num_examples\": 44620.0}, \"condition\": {\"type\": \"NUMERICAL_IS_HIGHER_THAN\", \"attribute\": \"Resp\", \"threshold\": 20.5}, \"children\": [{\"value\": {\"type\": \"PROBABILITY\", \"distribution\": [0.9592613261630561, 0.04073867383694384], \"num_examples\": 19711.0}, \"condition\": {\"type\": \"NUMERICAL_IS_HIGHER_THAN\", \"attribute\": \"WBC\", \"threshold\": 3.994999885559082}, \"children\": [{\"value\": {\"type\": \"PROBABILITY\", \"distribution\": [0.94667994687915, 0.05332005312084993], \"num_examples\": 15060.0}, \"condition\": {\"type\": \"NUMERICAL_IS_HIGHER_THAN\", \"attribute\": \"WBC\", \"threshold\": 12.005000114440918}, \"children\": [{\"value\": {\"type\": \"PROBABILITY\", \"distribution\": [1.0, 0.0], \"num_examples\": 4644.0}}, {\"value\": {\"type\": \"PROBABILITY\", \"distribution\": [0.9229070660522274, 0.07709293394777265], \"num_examples\": 10416.0}, \"condition\": {\"type\": \"NUMERICAL_IS_HIGHER_THAN\", \"attribute\": \"WBC\", \"threshold\": 4.315000057220459}}]}, {\"value\": {\"type\": \"PROBABILITY\", \"distribution\": [1.0, 0.0], \"num_examples\": 4651.0}}]}, {\"value\": {\"type\": \"PROBABILITY\", \"distribution\": [0.8374081657232325, 0.16259183427676743], \"num_examples\": 24909.0}, \"condition\": {\"type\": \"NUMERICAL_IS_HIGHER_THAN\", \"attribute\": \"WBC\", \"threshold\": 12.085000038146973}, \"children\": [{\"value\": {\"type\": \"PROBABILITY\", \"distribution\": [0.9272940751445087, 0.07270592485549134], \"num_examples\": 11072.0}, \"condition\": {\"type\": \"NUMERICAL_IS_HIGHER_THAN\", \"attribute\": \"WBC\", \"threshold\": 12.145000457763672}, \"children\": [{\"value\": {\"type\": \"PROBABILITY\", \"distribution\": [0.926984126984127, 0.07301587301587302], \"num_examples\": 11025.0}, \"condition\": {\"type\": \"NUMERICAL_IS_HIGHER_THAN\", \"attribute\": \"WBC\", \"threshold\": 29.514999389648438}}, {\"value\": {\"type\": \"PROBABILITY\", \"distribution\": [1.0, 0.0], \"num_examples\": 47.0}}]}, {\"value\": {\"type\": \"PROBABILITY\", \"distribution\": [0.7654838476548385, 0.23451615234516152], \"num_examples\": 13837.0}, \"condition\": {\"type\": \"NUMERICAL_IS_HIGHER_THAN\", \"attribute\": \"WBC\", \"threshold\": 4.005000114440918}, \"children\": [{\"value\": {\"type\": \"PROBABILITY\", \"distribution\": [0.1413237924865832, 0.8586762075134168], \"num_examples\": 2795.0}, \"condition\": {\"type\": \"NUMERICAL_IS_HIGHER_THAN\", \"attribute\": \"Resp\", \"threshold\": 19.5}}, {\"value\": {\"type\": \"PROBABILITY\", \"distribution\": [0.9234740083318239, 0.07652599166817606], \"num_examples\": 11042.0}, \"condition\": {\"type\": \"NUMERICAL_IS_HIGHER_THAN\", \"attribute\": \"WBC\", \"threshold\": 2.9149999618530273}}]}]}]}]}, \"#tree_plot_d11840969ba24ecfbc183b0465df1351\")\n",
       "</script>\n"
      ],
      "text/plain": [
       "<IPython.core.display.HTML object>"
      ]
     },
     "execution_count": 13,
     "metadata": {},
     "output_type": "execute_result"
    }
   ],
   "source": [
    "tfdf.model_plotter.plot_model_in_colab(model, tree_idx=0, max_depth=4)"
   ]
  },
  {
   "cell_type": "markdown",
   "id": "7874e32b-e06f-4e97-80d3-4b4ef77c4e35",
   "metadata": {},
   "source": [
    "This dataset is small. You can see the model converging almost immediately."
   ]
  },
  {
   "cell_type": "code",
   "execution_count": 14,
   "id": "1af163e3-b572-4e13-8f50-b120f7afd968",
   "metadata": {},
   "outputs": [
    {
     "data": {
      "image/png": "[encoded data removed]",
      "text/plain": [
       "<Figure size 864x288 with 2 Axes>"
      ]
     },
     "metadata": {
      "needs_background": "light"
     },
     "output_type": "display_data"
    }
   ],
   "source": [
    "import matplotlib.pyplot as plt\n",
    "\n",
    "logs = model.make_inspector().training_logs()\n",
    "\n",
    "plt.figure(figsize=(12, 4))\n",
    "\n",
    "plt.subplot(1, 2, 1)\n",
    "plt.plot([log.num_trees for log in logs], [log.evaluation.accuracy for log in logs])\n",
    "plt.xlabel(\"Number of trees\")\n",
    "plt.ylabel(\"Accuracy (out-of-bag)\")\n",
    "\n",
    "plt.subplot(1, 2, 2)\n",
    "plt.plot([log.num_trees for log in logs], [log.evaluation.loss for log in logs])\n",
    "plt.xlabel(\"Number of trees\")\n",
    "plt.ylabel(\"Logloss (out-of-bag)\")\n",
    "\n",
    "plt.show()"
   ]
  },
  {
   "cell_type": "markdown",
   "id": "a6a7554a-e0e4-4fc9-aa87-94658b582a3e",
   "metadata": {},
   "source": [
    "## Evaluate the model\n",
    "\n",
    "Let's evaluate our model on the test dataset."
   ]
  },
  {
   "cell_type": "code",
   "execution_count": 15,
   "id": "3654a2b3-6b5d-4124-a5b4-7ec98b48d734",
   "metadata": {},
   "outputs": [
    {
     "name": "stdout",
     "output_type": "stream",
     "text": [
      "20/20 [==============================] - 1s 29ms/step - loss: 0.0000e+00 - accuracy: 0.9575\n",
      "\n",
      "loss: 0.0000\n",
      "accuracy: 0.9575\n"
     ]
    }
   ],
   "source": [
    "model.compile(metrics=[\"accuracy\"])\n",
    "evaluation = model.evaluate(test_ds, return_dict=True)\n",
    "print()\n",
    "\n",
    "for name, value in evaluation.items():\n",
    "  print(f\"{name}: {value:.4f}\")"
   ]
  },
  {
   "cell_type": "markdown",
   "id": "3d38c8c3-3c6d-49ba-a4bd-304cca9fbbf0",
   "metadata": {},
   "source": [
    "Remark: The test accuracy (`0.9953`) is close to the Out-of-bag accuracy (`0.995613`) shown in the training logs."
   ]
  },
  {
   "cell_type": "markdown",
   "id": "ea7ae845-acbc-4449-970b-d4da3ddbb47d",
   "metadata": {},
   "source": [
    "## Prepare this model for TensorFlow Serving.\n",
    "\n",
    "Export the model to the SavedModel format for later re-use e.g. TensorFlow Serving."
   ]
  },
  {
   "cell_type": "code",
   "execution_count": 16,
   "id": "92ea6cd0-b9db-4094-83c2-9cab9626f2c4",
   "metadata": {},
   "outputs": [
    {
     "name": "stderr",
     "output_type": "stream",
     "text": [
      "WARNING:absl:Function `_wrapped_model` contains input name(s) HR, Resp, WBC with unsupported characters which will be renamed to hr, resp, wbc in the SavedModel.\n",
      "WARNING:absl:Found untraced functions such as call_get_leaves while saving (showing 1 of 1). These functions will not be directly callable after loading.\n"
     ]
    },
    {
     "name": "stdout",
     "output_type": "stream",
     "text": [
      "INFO:tensorflow:Assets written to: ../models/no-mlops/1.0.no_mlops_sepsis_rfc/assets\n"
     ]
    },
    {
     "name": "stderr",
     "output_type": "stream",
     "text": [
      "INFO:tensorflow:Assets written to: ../models/no-mlops/1.0.no_mlops_sepsis_rfc/assets\n"
     ]
    }
   ],
   "source": [
    "# Model versioning\n",
    "# MAJOR.MINOR.PIPELINE\n",
    "# 1. MAJOR: increases when incompatible data changes, schema or target variable change, that renders model incompatible when used for predictions\n",
    "# 2. MINOR: increases when model performance is improved\n",
    "# 3. PIPELINE: correspond to an update to training pipeline but may not change the model itself\n",
    "\n",
    "model.save(\"../models/no-mlops/1.0.no_mlops_sepsis_rfc\")"
   ]
  },
  {
   "cell_type": "markdown",
   "id": "a0d0a576-dd9d-4852-ab94-06ed539dcf69",
   "metadata": {},
   "source": [
    "# Demonstrate Prediction"
   ]
  },
  {
   "cell_type": "code",
   "execution_count": 48,
   "id": "fb0d947a-1509-49d8-a2e7-f657bc9dfd80",
   "metadata": {},
   "outputs": [
    {
     "name": "stderr",
     "output_type": "stream",
     "text": [
      "[INFO kernel.cc:1176] Loading model from path ../models/no-mlops/1.0.no_mlops_sepsis_rfc/assets/ with prefix 6e18fa0793634313\n",
      "[INFO decision_forest.cc:639] Model loaded with 300 root(s), 509468 node(s), and 3 input feature(s).\n",
      "[INFO abstract_model.cc:1248] Engine \"RandomForestOptPred\" built\n",
      "[INFO kernel.cc:1022] Use fast generic engine\n"
     ]
    }
   ],
   "source": [
    "# load the saved model\n",
    "import keras\n",
    "sepsis = keras.models.load_model('../models/no-mlops/1.0.no_mlops_sepsis_rfc')"
   ]
  },
  {
   "cell_type": "code",
   "execution_count": null,
   "id": "4aca9848-4ede-4d47-bcbf-dec7e4440cf5",
   "metadata": {},
   "outputs": [],
   "source": []
  },
  {
   "cell_type": "code",
   "execution_count": 49,
   "id": "908b13c3-6e93-4c2d-9989-b72e4e1adf0e",
   "metadata": {},
   "outputs": [],
   "source": [
    "# load the unseen data\n",
    "X = pd.read_csv('../data/serving_data/septic_data_unlabelled.csv', index_col=0)\n",
    "x = tfdf.keras.pd_dataframe_to_tf_dataset(X)"
   ]
  },
  {
   "cell_type": "code",
   "execution_count": 56,
   "id": "fc7806ec-12a9-48a8-8f06-bf95ec7a139e",
   "metadata": {},
   "outputs": [
    {
     "ename": "ValueError",
     "evalue": "in user code:\n\n    File \"/opt/app-root/lib64/python3.8/site-packages/keras/engine/training.py\", line 1845, in predict_function  *\n        return step_function(self, iterator)\n    File \"/opt/app-root/lib64/python3.8/site-packages/keras/engine/training.py\", line 1834, in step_function  **\n        outputs = model.distribute_strategy.run(run_step, args=(data,))\n    File \"/opt/app-root/lib64/python3.8/site-packages/keras/engine/training.py\", line 1823, in run_step  **\n        outputs = model.predict_step(data)\n    File \"/opt/app-root/lib64/python3.8/site-packages/keras/engine/training.py\", line 1791, in predict_step\n        return self(x, training=False)\n    File \"/opt/app-root/lib64/python3.8/site-packages/keras/utils/traceback_utils.py\", line 67, in error_handler\n        raise e.with_traceback(filtered_tb) from None\n\n    ValueError: Exception encountered when calling layer \"random_forest_model\" (type RandomForestModel).\n    \n    Could not find matching concrete function to call loaded from the SavedModel. Got:\n      Positional arguments (2 total):\n        * <tf.Tensor 'inputs:0' shape=(None, 3) dtype=float32>\n        * False\n      Keyword arguments: {}\n    \n     Expected these arguments to match one of the following 4 option(s):\n    \n    Option 1:\n      Positional arguments (2 total):\n        * {'HR': TensorSpec(shape=(None,), dtype=tf.float32, name='inputs/HR'),\n     'Resp': TensorSpec(shape=(None,), dtype=tf.float32, name='inputs/Resp'),\n     'WBC': TensorSpec(shape=(None,), dtype=tf.float32, name='inputs/WBC')}\n        * False\n      Keyword arguments: {}\n    \n    Option 2:\n      Positional arguments (2 total):\n        * {'HR': TensorSpec(shape=(None,), dtype=tf.float32, name='inputs/HR'),\n     'Resp': TensorSpec(shape=(None,), dtype=tf.float32, name='inputs/Resp'),\n     'WBC': TensorSpec(shape=(None,), dtype=tf.float32, name='inputs/WBC')}\n        * True\n      Keyword arguments: {}\n    \n    Option 3:\n      Positional arguments (2 total):\n        * {'HR': TensorSpec(shape=(None,), dtype=tf.float32, name='HR'),\n     'Resp': TensorSpec(shape=(None,), dtype=tf.float32, name='Resp'),\n     'WBC': TensorSpec(shape=(None,), dtype=tf.float32, name='WBC')}\n        * False\n      Keyword arguments: {}\n    \n    Option 4:\n      Positional arguments (2 total):\n        * {'HR': TensorSpec(shape=(None,), dtype=tf.float32, name='HR'),\n     'Resp': TensorSpec(shape=(None,), dtype=tf.float32, name='Resp'),\n     'WBC': TensorSpec(shape=(None,), dtype=tf.float32, name='WBC')}\n        * True\n      Keyword arguments: {}\n    \n    Call arguments received by layer \"random_forest_model\" (type RandomForestModel):\n      • args=('tf.Tensor(shape=(None, 3), dtype=float32)',)\n      • kwargs={'training': 'False'}\n",
     "output_type": "error",
     "traceback": [
      "\u001b[0;31m---------------------------------------------------------------------------\u001b[0m",
      "\u001b[0;31mValueError\u001b[0m                                Traceback (most recent call last)",
      "\u001b[0;32m/tmp/ipykernel_1135/562069007.py\u001b[0m in \u001b[0;36m<cell line: 2>\u001b[0;34m()\u001b[0m\n\u001b[1;32m      1\u001b[0m \u001b[0;31m# run the prediction https://www.tensorflow.org/decision_forests/api_docs/python/tfdf/keras/RandomForestModel#predict\u001b[0m\u001b[0;34m\u001b[0m\u001b[0;34m\u001b[0m\u001b[0;34m\u001b[0m\u001b[0m\n\u001b[0;32m----> 2\u001b[0;31m \u001b[0mpredictions\u001b[0m \u001b[0;34m=\u001b[0m \u001b[0msepsis\u001b[0m\u001b[0;34m.\u001b[0m\u001b[0mpredict\u001b[0m\u001b[0;34m(\u001b[0m\u001b[0mX\u001b[0m\u001b[0;34m)\u001b[0m\u001b[0;34m\u001b[0m\u001b[0;34m\u001b[0m\u001b[0m\n\u001b[0m\u001b[1;32m      3\u001b[0m \u001b[0;31m#X.to_csv('sepsis.csv',index=False)\u001b[0m\u001b[0;34m\u001b[0m\u001b[0;34m\u001b[0m\u001b[0;34m\u001b[0m\u001b[0m\n",
      "\u001b[0;32m/opt/app-root/lib64/python3.8/site-packages/keras/utils/traceback_utils.py\u001b[0m in \u001b[0;36merror_handler\u001b[0;34m(*args, **kwargs)\u001b[0m\n\u001b[1;32m     65\u001b[0m     \u001b[0;32mexcept\u001b[0m \u001b[0mException\u001b[0m \u001b[0;32mas\u001b[0m \u001b[0me\u001b[0m\u001b[0;34m:\u001b[0m  \u001b[0;31m# pylint: disable=broad-except\u001b[0m\u001b[0;34m\u001b[0m\u001b[0;34m\u001b[0m\u001b[0m\n\u001b[1;32m     66\u001b[0m       \u001b[0mfiltered_tb\u001b[0m \u001b[0;34m=\u001b[0m \u001b[0m_process_traceback_frames\u001b[0m\u001b[0;34m(\u001b[0m\u001b[0me\u001b[0m\u001b[0;34m.\u001b[0m\u001b[0m__traceback__\u001b[0m\u001b[0;34m)\u001b[0m\u001b[0;34m\u001b[0m\u001b[0;34m\u001b[0m\u001b[0m\n\u001b[0;32m---> 67\u001b[0;31m       \u001b[0;32mraise\u001b[0m \u001b[0me\u001b[0m\u001b[0;34m.\u001b[0m\u001b[0mwith_traceback\u001b[0m\u001b[0;34m(\u001b[0m\u001b[0mfiltered_tb\u001b[0m\u001b[0;34m)\u001b[0m \u001b[0;32mfrom\u001b[0m \u001b[0;32mNone\u001b[0m\u001b[0;34m\u001b[0m\u001b[0;34m\u001b[0m\u001b[0m\n\u001b[0m\u001b[1;32m     68\u001b[0m     \u001b[0;32mfinally\u001b[0m\u001b[0;34m:\u001b[0m\u001b[0;34m\u001b[0m\u001b[0;34m\u001b[0m\u001b[0m\n\u001b[1;32m     69\u001b[0m       \u001b[0;32mdel\u001b[0m \u001b[0mfiltered_tb\u001b[0m\u001b[0;34m\u001b[0m\u001b[0;34m\u001b[0m\u001b[0m\n",
      "\u001b[0;32m/opt/app-root/lib64/python3.8/site-packages/keras/engine/training.py\u001b[0m in \u001b[0;36mtf__predict_function\u001b[0;34m(iterator)\u001b[0m\n\u001b[1;32m     13\u001b[0m                 \u001b[0;32mtry\u001b[0m\u001b[0;34m:\u001b[0m\u001b[0;34m\u001b[0m\u001b[0;34m\u001b[0m\u001b[0m\n\u001b[1;32m     14\u001b[0m                     \u001b[0mdo_return\u001b[0m \u001b[0;34m=\u001b[0m \u001b[0;32mTrue\u001b[0m\u001b[0;34m\u001b[0m\u001b[0;34m\u001b[0m\u001b[0m\n\u001b[0;32m---> 15\u001b[0;31m                     \u001b[0mretval_\u001b[0m \u001b[0;34m=\u001b[0m \u001b[0mag__\u001b[0m\u001b[0;34m.\u001b[0m\u001b[0mconverted_call\u001b[0m\u001b[0;34m(\u001b[0m\u001b[0mag__\u001b[0m\u001b[0;34m.\u001b[0m\u001b[0mld\u001b[0m\u001b[0;34m(\u001b[0m\u001b[0mstep_function\u001b[0m\u001b[0;34m)\u001b[0m\u001b[0;34m,\u001b[0m \u001b[0;34m(\u001b[0m\u001b[0mag__\u001b[0m\u001b[0;34m.\u001b[0m\u001b[0mld\u001b[0m\u001b[0;34m(\u001b[0m\u001b[0mself\u001b[0m\u001b[0;34m)\u001b[0m\u001b[0;34m,\u001b[0m \u001b[0mag__\u001b[0m\u001b[0;34m.\u001b[0m\u001b[0mld\u001b[0m\u001b[0;34m(\u001b[0m\u001b[0miterator\u001b[0m\u001b[0;34m)\u001b[0m\u001b[0;34m)\u001b[0m\u001b[0;34m,\u001b[0m \u001b[0;32mNone\u001b[0m\u001b[0;34m,\u001b[0m \u001b[0mfscope\u001b[0m\u001b[0;34m)\u001b[0m\u001b[0;34m\u001b[0m\u001b[0;34m\u001b[0m\u001b[0m\n\u001b[0m\u001b[1;32m     16\u001b[0m                 \u001b[0;32mexcept\u001b[0m\u001b[0;34m:\u001b[0m\u001b[0;34m\u001b[0m\u001b[0;34m\u001b[0m\u001b[0m\n\u001b[1;32m     17\u001b[0m                     \u001b[0mdo_return\u001b[0m \u001b[0;34m=\u001b[0m \u001b[0;32mFalse\u001b[0m\u001b[0;34m\u001b[0m\u001b[0;34m\u001b[0m\u001b[0m\n",
      "\u001b[0;31mValueError\u001b[0m: in user code:\n\n    File \"/opt/app-root/lib64/python3.8/site-packages/keras/engine/training.py\", line 1845, in predict_function  *\n        return step_function(self, iterator)\n    File \"/opt/app-root/lib64/python3.8/site-packages/keras/engine/training.py\", line 1834, in step_function  **\n        outputs = model.distribute_strategy.run(run_step, args=(data,))\n    File \"/opt/app-root/lib64/python3.8/site-packages/keras/engine/training.py\", line 1823, in run_step  **\n        outputs = model.predict_step(data)\n    File \"/opt/app-root/lib64/python3.8/site-packages/keras/engine/training.py\", line 1791, in predict_step\n        return self(x, training=False)\n    File \"/opt/app-root/lib64/python3.8/site-packages/keras/utils/traceback_utils.py\", line 67, in error_handler\n        raise e.with_traceback(filtered_tb) from None\n\n    ValueError: Exception encountered when calling layer \"random_forest_model\" (type RandomForestModel).\n    \n    Could not find matching concrete function to call loaded from the SavedModel. Got:\n      Positional arguments (2 total):\n        * <tf.Tensor 'inputs:0' shape=(None, 3) dtype=float32>\n        * False\n      Keyword arguments: {}\n    \n     Expected these arguments to match one of the following 4 option(s):\n    \n    Option 1:\n      Positional arguments (2 total):\n        * {'HR': TensorSpec(shape=(None,), dtype=tf.float32, name='inputs/HR'),\n     'Resp': TensorSpec(shape=(None,), dtype=tf.float32, name='inputs/Resp'),\n     'WBC': TensorSpec(shape=(None,), dtype=tf.float32, name='inputs/WBC')}\n        * False\n      Keyword arguments: {}\n    \n    Option 2:\n      Positional arguments (2 total):\n        * {'HR': TensorSpec(shape=(None,), dtype=tf.float32, name='inputs/HR'),\n     'Resp': TensorSpec(shape=(None,), dtype=tf.float32, name='inputs/Resp'),\n     'WBC': TensorSpec(shape=(None,), dtype=tf.float32, name='inputs/WBC')}\n        * True\n      Keyword arguments: {}\n    \n    Option 3:\n      Positional arguments (2 total):\n        * {'HR': TensorSpec(shape=(None,), dtype=tf.float32, name='HR'),\n     'Resp': TensorSpec(shape=(None,), dtype=tf.float32, name='Resp'),\n     'WBC': TensorSpec(shape=(None,), dtype=tf.float32, name='WBC')}\n        * False\n      Keyword arguments: {}\n    \n    Option 4:\n      Positional arguments (2 total):\n        * {'HR': TensorSpec(shape=(None,), dtype=tf.float32, name='HR'),\n     'Resp': TensorSpec(shape=(None,), dtype=tf.float32, name='Resp'),\n     'WBC': TensorSpec(shape=(None,), dtype=tf.float32, name='WBC')}\n        * True\n      Keyword arguments: {}\n    \n    Call arguments received by layer \"random_forest_model\" (type RandomForestModel):\n      • args=('tf.Tensor(shape=(None, 3), dtype=float32)',)\n      • kwargs={'training': 'False'}\n"
     ]
    }
   ],
   "source": [
    "# run the prediction https://www.tensorflow.org/decision_forests/api_docs/python/tfdf/keras/RandomForestModel#predict\n",
    "predictions = sepsis.predict(x)\n",
    "#X.to_csv('sepsis.csv',index=False)"
   ]
  },
  {
   "cell_type": "code",
   "execution_count": null,
   "id": "7a9dfedf-8450-4a22-bef6-cb88c442919a",
   "metadata": {},
   "outputs": [],
   "source": []
  }
 ],
 "metadata": {
  "kernelspec": {
   "display_name": "Python 3 (ipykernel)",
   "language": "python",
   "name": "python3"
  },
  "language_info": {
   "codemirror_mode": {
    "name": "ipython",
    "version": 3
   },
   "file_extension": ".py",
   "mimetype": "text/x-python",
   "name": "python",
   "nbconvert_exporter": "python",
   "pygments_lexer": "ipython3",
   "version": "3.8.8"
  }
 },
 "nbformat": 4,
 "nbformat_minor": 5
}
