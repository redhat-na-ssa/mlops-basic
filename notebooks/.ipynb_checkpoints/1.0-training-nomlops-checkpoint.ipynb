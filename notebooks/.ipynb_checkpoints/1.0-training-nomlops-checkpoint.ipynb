{
 "cells": [
  {
   "cell_type": "markdown",
   "id": "4dc9c4db-3056-497a-b676-5fbef4c7d40e",
   "metadata": {},
   "source": [
    "# Classification with TensorFlow Neural Decision Forests"
   ]
  },
  {
   "cell_type": "markdown",
   "id": "77efc0cc-aa30-46cf-8c84-ca19c1f6175a",
   "metadata": {},
   "source": [
    "## The scenario\n",
    "\n",
    "Predicting sepsis from patient data.\n",
    "\n",
    "## The data\n",
    "\n",
    "This example uses synthetically generated patient data containing biological markers. The task is binary classification to predict whether a patient is septic or not based on bio-markers. The dataset includes 100,000 instances with 4 numerical features (Heart Rate, Respiratory Rate, Temperature, and White Blood Cell Count) labelled with 0 (not septic) or 1 (septic).\n",
    "\n",
    "For more details review the data_file folder.\n",
    "\n",
    "## The model\n",
    "\n",
    "TensorFlow Decision Forests (TF-DF)."
   ]
  },
  {
   "cell_type": "markdown",
   "id": "8b897c59-b4a2-42a4-a4b6-279bf4b07fc5",
   "metadata": {},
   "source": [
    "# Development & Training"
   ]
  },
  {
   "cell_type": "markdown",
   "id": "c76ceeed-59cd-4d67-a6e0-5edeacafbfe3",
   "metadata": {},
   "source": [
    "## Install packages and libraries\n",
    "\n",
    "In the terminal run 'pip install -r requirements.txt'. Import libraries needed for development."
   ]
  },
  {
   "cell_type": "code",
   "execution_count": 1,
   "id": "0da2b28c-82bc-4944-9253-075bfe5b75f7",
   "metadata": {},
   "outputs": [
    {
     "name": "stderr",
     "output_type": "stream",
     "text": [
      "2022-08-03 15:52:22.539901: W tensorflow/stream_executor/platform/default/dso_loader.cc:64] Could not load dynamic library 'libcudart.so.11.0'; dlerror: libcudart.so.11.0: cannot open shared object file: No such file or directory\n",
      "2022-08-03 15:52:22.539950: I tensorflow/stream_executor/cuda/cudart_stub.cc:29] Ignore above cudart dlerror if you do not have a GPU set up on your machine.\n"
     ]
    }
   ],
   "source": [
    "import tensorflow_decision_forests as tfdf\n",
    "\n",
    "import os\n",
    "import numpy as np\n",
    "import pandas as pd\n",
    "import tensorflow as tf\n",
    "import math\n",
    "\n",
    "# data splitting\n",
    "from sklearn.model_selection import train_test_split"
   ]
  },
  {
   "cell_type": "code",
   "execution_count": 2,
   "id": "6f3d1451-4907-4f94-8d10-65f2e3cfcf2a",
   "metadata": {},
   "outputs": [
    {
     "name": "stdout",
     "output_type": "stream",
     "text": [
      "Found TensorFlow Decision Forests v0.2.7\n"
     ]
    }
   ],
   "source": [
    "# Check the version of TensorFlow Decision Forests\n",
    "print(\"Found TensorFlow Decision Forests v\" + tfdf.__version__)"
   ]
  },
  {
   "cell_type": "markdown",
   "id": "91938ea1-b13f-4429-868c-04aa9a619557",
   "metadata": {},
   "source": [
    "## Load the data "
   ]
  },
  {
   "cell_type": "code",
   "execution_count": 3,
   "id": "621b4cb7-f49f-4736-b46c-718c9dcda63b",
   "metadata": {},
   "outputs": [
    {
     "name": "stdout",
     "output_type": "stream",
     "text": [
      "Dataset shape: (100000, 5)\n"
     ]
    },
    {
     "data": {
      "text/html": [
       "<div>\n",
       "<style scoped>\n",
       "    .dataframe tbody tr th:only-of-type {\n",
       "        vertical-align: middle;\n",
       "    }\n",
       "\n",
       "    .dataframe tbody tr th {\n",
       "        vertical-align: top;\n",
       "    }\n",
       "\n",
       "    .dataframe thead th {\n",
       "        text-align: right;\n",
       "    }\n",
       "</style>\n",
       "<table border=\"1\" class=\"dataframe\">\n",
       "  <thead>\n",
       "    <tr style=\"text-align: right;\">\n",
       "      <th></th>\n",
       "      <th>Temp</th>\n",
       "      <th>HR</th>\n",
       "      <th>Resp</th>\n",
       "      <th>WBC</th>\n",
       "      <th>isSeptic</th>\n",
       "    </tr>\n",
       "  </thead>\n",
       "  <tbody>\n",
       "    <tr>\n",
       "      <th>0</th>\n",
       "      <td>40.0</td>\n",
       "      <td>110.0</td>\n",
       "      <td>12.0</td>\n",
       "      <td>4.54</td>\n",
       "      <td>0</td>\n",
       "    </tr>\n",
       "    <tr>\n",
       "      <th>1</th>\n",
       "      <td>41.5</td>\n",
       "      <td>79.0</td>\n",
       "      <td>26.0</td>\n",
       "      <td>4.23</td>\n",
       "      <td>0</td>\n",
       "    </tr>\n",
       "    <tr>\n",
       "      <th>2</th>\n",
       "      <td>41.9</td>\n",
       "      <td>61.0</td>\n",
       "      <td>14.0</td>\n",
       "      <td>18.13</td>\n",
       "      <td>0</td>\n",
       "    </tr>\n",
       "  </tbody>\n",
       "</table>\n",
       "</div>"
      ],
      "text/plain": [
       "   Temp     HR  Resp    WBC  isSeptic\n",
       "0  40.0  110.0  12.0   4.54         0\n",
       "1  41.5   79.0  26.0   4.23         0\n",
       "2  41.9   61.0  14.0  18.13         0"
      ]
     },
     "execution_count": 3,
     "metadata": {},
     "output_type": "execute_result"
    }
   ],
   "source": [
    "# Download the dataset into a Pandas Dataframe.\n",
    "# if you have a patient id you can append index_col=0 to exclude the id from being trained on\n",
    "data = pd.read_csv(\"../data/training_data/septic_data_labelled.csv\", sep=\",\")\n",
    "\n",
    "# Display the shape\n",
    "print(f\"Dataset shape: {data.shape}\")\n",
    "\n",
    "# Display the first 3 examples.\n",
    "data.head(3)"
   ]
  },
  {
   "cell_type": "markdown",
   "id": "9f3a3ad7-b64b-4a1c-937b-d0a0ba002557",
   "metadata": {},
   "source": [
    "Check the data representation for non-Septic to Septic records."
   ]
  },
  {
   "cell_type": "code",
   "execution_count": 4,
   "id": "9650ea66-797f-4c6a-ae90-7552853d9959",
   "metadata": {},
   "outputs": [
    {
     "data": {
      "text/plain": [
       "0    93000\n",
       "1     7000\n",
       "Name: isSeptic, dtype: int64"
      ]
     },
     "execution_count": 4,
     "metadata": {},
     "output_type": "execute_result"
    }
   ],
   "source": [
    "data['isSeptic'].value_counts()"
   ]
  },
  {
   "cell_type": "code",
   "execution_count": 5,
   "id": "f27f6325-9ef8-45d2-8953-9e46d580b9da",
   "metadata": {},
   "outputs": [
    {
     "name": "stdout",
     "output_type": "stream",
     "text": [
      "Integer classes: [0, 1]\n"
     ]
    }
   ],
   "source": [
    "# This stage is necessary if your classification label is represented as a\n",
    "# string since Keras expects integer classification labels.\n",
    "# When using `pd_dataframe_to_tf_dataset` (see below), this step can be skipped.\n",
    "\n",
    "# Name of the label column.\n",
    "label = \"isSeptic\"\n",
    "\n",
    "classes = data[label].unique().tolist()\n",
    "print(f\"Integer classes: {classes}\")"
   ]
  },
  {
   "cell_type": "markdown",
   "id": "4c51ed2e-5821-4207-aaf3-7b72ea9db602",
   "metadata": {},
   "source": [
    "## Split the data"
   ]
  },
  {
   "cell_type": "markdown",
   "id": "fdfa6c2c-4e4b-4c83-93fa-494008b25cba",
   "metadata": {},
   "source": [
    "Next split the dataset into training and testing:"
   ]
  },
  {
   "cell_type": "code",
   "execution_count": 6,
   "id": "af4537db-8845-4ce0-8e6d-ce0255a01723",
   "metadata": {},
   "outputs": [
    {
     "name": "stdout",
     "output_type": "stream",
     "text": [
      "Train dataset (rows, cols.): (80000, 5)\n",
      "Test dataset (rows, cols.): (20000, 5)\n"
     ]
    }
   ],
   "source": [
    "# split, shuffle, and stratify the data\n",
    "train_ds, test_ds = \\\n",
    "    train_test_split(\n",
    "    # the dataset\n",
    "    data,\n",
    "    # how much to split for test\n",
    "    test_size=0.20,\n",
    "    # whether or not to shuffle the data before splitting. If shuffle=False then stratify must be None.\n",
    "    shuffle=True,\n",
    "    # random state fixes the randomization so you get the same results each time\n",
    "    random_state=42, \n",
    "    # stratified splitting keeps the proportion of y values trhough the train and test sets\n",
    "    stratify=data[\"isSeptic\"])\n",
    "\n",
    "print(f\"Train dataset (rows, cols.): {train_ds.shape}\")\n",
    "print(f\"Test dataset (rows, cols.): {test_ds.shape}\")"
   ]
  },
  {
   "cell_type": "code",
   "execution_count": 7,
   "id": "29f8942a-86f0-4019-a16a-ceaa6adcd844",
   "metadata": {},
   "outputs": [
    {
     "data": {
      "text/html": [
       "<div>\n",
       "<style scoped>\n",
       "    .dataframe tbody tr th:only-of-type {\n",
       "        vertical-align: middle;\n",
       "    }\n",
       "\n",
       "    .dataframe tbody tr th {\n",
       "        vertical-align: top;\n",
       "    }\n",
       "\n",
       "    .dataframe thead th {\n",
       "        text-align: right;\n",
       "    }\n",
       "</style>\n",
       "<table border=\"1\" class=\"dataframe\">\n",
       "  <thead>\n",
       "    <tr style=\"text-align: right;\">\n",
       "      <th></th>\n",
       "      <th>Temp</th>\n",
       "      <th>HR</th>\n",
       "      <th>Resp</th>\n",
       "      <th>WBC</th>\n",
       "      <th>isSeptic</th>\n",
       "    </tr>\n",
       "  </thead>\n",
       "  <tbody>\n",
       "    <tr>\n",
       "      <th>43652</th>\n",
       "      <td>36.5</td>\n",
       "      <td>205.0</td>\n",
       "      <td>24.0</td>\n",
       "      <td>10.36</td>\n",
       "      <td>0</td>\n",
       "    </tr>\n",
       "    <tr>\n",
       "      <th>59685</th>\n",
       "      <td>36.4</td>\n",
       "      <td>239.0</td>\n",
       "      <td>17.0</td>\n",
       "      <td>3.12</td>\n",
       "      <td>0</td>\n",
       "    </tr>\n",
       "    <tr>\n",
       "      <th>33086</th>\n",
       "      <td>36.7</td>\n",
       "      <td>186.0</td>\n",
       "      <td>18.0</td>\n",
       "      <td>3.83</td>\n",
       "      <td>0</td>\n",
       "    </tr>\n",
       "  </tbody>\n",
       "</table>\n",
       "</div>"
      ],
      "text/plain": [
       "       Temp     HR  Resp    WBC  isSeptic\n",
       "43652  36.5  205.0  24.0  10.36         0\n",
       "59685  36.4  239.0  17.0   3.12         0\n",
       "33086  36.7  186.0  18.0   3.83         0"
      ]
     },
     "execution_count": 7,
     "metadata": {},
     "output_type": "execute_result"
    }
   ],
   "source": [
    "# Display the first 3 examples after the split, shuffle and stratification\n",
    "train_ds.head(3)"
   ]
  },
  {
   "cell_type": "markdown",
   "id": "3d08200c-5aa8-479a-86f1-d81a1e1c800c",
   "metadata": {},
   "source": [
    "Check that the split data is representative of the population that is septic on average."
   ]
  },
  {
   "cell_type": "code",
   "execution_count": 8,
   "id": "c0fb1214-de9d-4448-8aa7-1d7cf08a5172",
   "metadata": {},
   "outputs": [
    {
     "data": {
      "text/plain": [
       "0    74400\n",
       "1     5600\n",
       "Name: isSeptic, dtype: int64"
      ]
     },
     "execution_count": 8,
     "metadata": {},
     "output_type": "execute_result"
    }
   ],
   "source": [
    "train_ds['isSeptic'].value_counts()"
   ]
  },
  {
   "cell_type": "code",
   "execution_count": 9,
   "id": "e01b8bb8-8a99-489b-af44-a7692e4ab426",
   "metadata": {},
   "outputs": [
    {
     "data": {
      "text/plain": [
       "0    18600\n",
       "1     1400\n",
       "Name: isSeptic, dtype: int64"
      ]
     },
     "execution_count": 9,
     "metadata": {},
     "output_type": "execute_result"
    }
   ],
   "source": [
    "test_ds['isSeptic'].value_counts()"
   ]
  },
  {
   "cell_type": "markdown",
   "id": "1516916d-608f-4849-840e-63bb82704147",
   "metadata": {},
   "source": [
    "## Convert the data\n",
    "\n",
    "And finally, convert the pandas dataframe (pd.Dataframe) into tensorflow datasets (tf.data.Dataset). "
   ]
  },
  {
   "cell_type": "code",
   "execution_count": 10,
   "id": "bd2ed119-f77d-4ae5-ba36-0eedc080365d",
   "metadata": {},
   "outputs": [
    {
     "name": "stderr",
     "output_type": "stream",
     "text": [
      "/opt/app-root/lib64/python3.8/site-packages/tensorflow_decision_forests/keras/core.py:2574: FutureWarning: In a future version of pandas all arguments of DataFrame.drop except for the argument 'labels' will be keyword-only.\n",
      "  features_dataframe = dataframe.drop(label, 1)\n",
      "2022-08-03 15:52:25.694363: W tensorflow/stream_executor/platform/default/dso_loader.cc:64] Could not load dynamic library 'libcuda.so.1'; dlerror: libcuda.so.1: cannot open shared object file: No such file or directory\n",
      "2022-08-03 15:52:25.694417: W tensorflow/stream_executor/cuda/cuda_driver.cc:269] failed call to cuInit: UNKNOWN ERROR (303)\n",
      "2022-08-03 15:52:25.694445: I tensorflow/stream_executor/cuda/cuda_diagnostics.cc:156] kernel driver does not appear to be running on this host (jupyterhub-nb-opentlc-2dmgr): /proc/driver/nvidia/version does not exist\n",
      "2022-08-03 15:52:25.694733: I tensorflow/core/platform/cpu_feature_guard.cc:193] This TensorFlow binary is optimized with oneAPI Deep Neural Network Library (oneDNN) to use the following CPU instructions in performance-critical operations:  AVX2 FMA\n",
      "To enable them in other operations, rebuild TensorFlow with the appropriate compiler flags.\n",
      "/opt/app-root/lib64/python3.8/site-packages/tensorflow_decision_forests/keras/core.py:2574: FutureWarning: In a future version of pandas all arguments of DataFrame.drop except for the argument 'labels' will be keyword-only.\n",
      "  features_dataframe = dataframe.drop(label, 1)\n"
     ]
    }
   ],
   "source": [
    "train_ds = tfdf.keras.pd_dataframe_to_tf_dataset(train_ds, label=label)\n",
    "test_ds = tfdf.keras.pd_dataframe_to_tf_dataset(test_ds, label=label)"
   ]
  },
  {
   "cell_type": "markdown",
   "id": "4d694ed9-d4df-41a2-a37d-1cddafd3511f",
   "metadata": {},
   "source": [
    "## Train the model"
   ]
  },
  {
   "cell_type": "markdown",
   "id": "db7c9d69-b650-4775-8c45-4d79c0a0a6cd",
   "metadata": {},
   "source": [
    "Notes for training:\n",
    "-  No input features are specified. Therefore, all the columns will be used as input features except for the label. The feature used by the model are shown in the training logs and in the model.summary().\n",
    "- DFs consume natively numerical, categorical, categorical-set features and missing-values. Numerical features do not need to be normalized. Categorical string values do not need to be encoded in a dictionary.\n",
    "- No training hyper-parameters are specified. Therefore the default hyper-parameters will be used. Default hyper-parameters provide reasonable results in most situations.\n",
    "- Calling compile on the model before the fit is optional. Compile can be used to provide extra evaluation metrics.\n",
    "- Training algorithms do not need validation datasets. If a validation dataset is provided, it will only be used to show metrics.\n",
    "- Add a verbose argument to RandomForestModel to control the amount of displayed training logs. Set verbose=0 to hide most of the logs. Set verbose=2 to show all the logs."
   ]
  },
  {
   "cell_type": "code",
   "execution_count": 11,
   "id": "535a3323-80f9-406e-92bc-bf70d6b1d9f7",
   "metadata": {},
   "outputs": [
    {
     "name": "stdout",
     "output_type": "stream",
     "text": [
      "Use /tmp/tmper4rjl8g as temporary training directory\n",
      "Reading training dataset...\n",
      "Training dataset read in 0:00:05.153951. Found 80000 examples.\n",
      "Training model...\n"
     ]
    },
    {
     "name": "stderr",
     "output_type": "stream",
     "text": [
      "[INFO kernel.cc:1176] Loading model from path /tmp/tmper4rjl8g/model/ with prefix 4f3c8c8cc6514eb9\n"
     ]
    },
    {
     "name": "stdout",
     "output_type": "stream",
     "text": [
      "Model trained in 0:00:06.005823\n",
      "Compiling model...\n"
     ]
    },
    {
     "name": "stderr",
     "output_type": "stream",
     "text": [
      "[INFO abstract_model.cc:1248] Engine \"RandomForestOptPred\" built\n",
      "[INFO kernel.cc:1022] Use fast generic engine\n"
     ]
    },
    {
     "name": "stdout",
     "output_type": "stream",
     "text": [
      "WARNING:tensorflow:AutoGraph could not transform <function simple_ml_inference_op_with_handle at 0x7eff04bf0c10> and will run it as-is.\n",
      "Please report this to the TensorFlow team. When filing the bug, set the verbosity to 10 (on Linux, `export AUTOGRAPH_VERBOSITY=10`) and attach the full output.\n",
      "Cause: could not get source code\n",
      "To silence this warning, decorate the function with @tf.autograph.experimental.do_not_convert\n"
     ]
    },
    {
     "name": "stderr",
     "output_type": "stream",
     "text": [
      "WARNING:tensorflow:AutoGraph could not transform <function simple_ml_inference_op_with_handle at 0x7eff04bf0c10> and will run it as-is.\n",
      "Please report this to the TensorFlow team. When filing the bug, set the verbosity to 10 (on Linux, `export AUTOGRAPH_VERBOSITY=10`) and attach the full output.\n",
      "Cause: could not get source code\n",
      "To silence this warning, decorate the function with @tf.autograph.experimental.do_not_convert\n"
     ]
    },
    {
     "name": "stdout",
     "output_type": "stream",
     "text": [
      "WARNING: AutoGraph could not transform <function simple_ml_inference_op_with_handle at 0x7eff04bf0c10> and will run it as-is.\n",
      "Please report this to the TensorFlow team. When filing the bug, set the verbosity to 10 (on Linux, `export AUTOGRAPH_VERBOSITY=10`) and attach the full output.\n",
      "Cause: could not get source code\n",
      "To silence this warning, decorate the function with @tf.autograph.experimental.do_not_convert\n",
      "Model compiled.\n"
     ]
    },
    {
     "data": {
      "text/plain": [
       "<keras.callbacks.History at 0x7efefe1d1460>"
      ]
     },
     "execution_count": 11,
     "metadata": {},
     "output_type": "execute_result"
    }
   ],
   "source": [
    "# Specify the model.\n",
    "model = tfdf.keras.RandomForestModel()\n",
    "\n",
    "# other optional forest models available\n",
    "#model = tfdf.keras.GradientBoostedTreesModel(num_trees=1500)\n",
    "#model = tfdf.keras.CartModel\n",
    "\n",
    "# Train the model.\n",
    "model.fit(x=train_ds)"
   ]
  },
  {
   "cell_type": "markdown",
   "id": "3bde8cf1-9e00-40f5-a525-64e718977dfd",
   "metadata": {
    "tags": []
   },
   "source": [
    "## Analyze the model\n",
    "The overall structure of the model is show with `.summary().` You will see:\n",
    "\n",
    "- Type: The learning algorithm used to train the model (Random Forest in our case).\n",
    "- Task: The problem solved by the model (Classification in our case).\n",
    "- Input Features: The input features of the model.\n",
    "- Variable Importance: Different measures of the importance of each feature for the model.\n",
    "- Out-of-bag evaluation: The out-of-bag evaluation of the model. This is a cheap and efficient alternative to cross-validation.\n",
    "- Number of {trees, nodes} and other metrics: Statistics about the structure of the decisions forests.\n",
    "- Remark: The summary's content depends on the learning algorithm (e.g. Out-of-bag is only available for Random Forest) and the hyper-parameters (e.g. the mean-decrease-in-accuracy variable importance can be disabled in the hyper-parameters)."
   ]
  },
  {
   "cell_type": "code",
   "execution_count": 12,
   "id": "fd16fab9-f4fb-4ae2-9c80-4bf48242c4b0",
   "metadata": {},
   "outputs": [
    {
     "name": "stdout",
     "output_type": "stream",
     "text": [
      "Model: \"random_forest_model\"\n",
      "_________________________________________________________________\n",
      " Layer (type)                Output Shape              Param #   \n",
      "=================================================================\n",
      "=================================================================\n",
      "Total params: 1\n",
      "Trainable params: 0\n",
      "Non-trainable params: 1\n",
      "_________________________________________________________________\n",
      "Type: \"RANDOM_FOREST\"\n",
      "Task: CLASSIFICATION\n",
      "Label: \"__LABEL\"\n",
      "\n",
      "Input Features (4):\n",
      "\tHR\n",
      "\tResp\n",
      "\tTemp\n",
      "\tWBC\n",
      "\n",
      "No weights\n",
      "\n",
      "Variable Importance: MEAN_MIN_DEPTH:\n",
      "    1. \"__LABEL\" 10.753334 ################\n",
      "    2.     \"WBC\"  3.361840 ####\n",
      "    3.    \"Resp\"  3.108053 ####\n",
      "    4.      \"HR\"  1.926125 ##\n",
      "    5.    \"Temp\"  0.369684 \n",
      "\n",
      "Variable Importance: NUM_AS_ROOT:\n",
      "    1. \"Temp\" 229.000000 ################\n",
      "    2.   \"HR\" 71.000000 \n",
      "\n",
      "Variable Importance: NUM_NODES:\n",
      "    1.  \"WBC\" 23502.000000 ################\n",
      "    2.   \"HR\" 15647.000000 ########\n",
      "    3. \"Temp\" 10741.000000 ###\n",
      "    4. \"Resp\" 7003.000000 \n",
      "\n",
      "Variable Importance: SUM_SCORE:\n",
      "    1.  \"WBC\" 2002349.726387 ################\n",
      "    2. \"Resp\" 1854110.492991 #############\n",
      "    3. \"Temp\" 1287475.988872 ######\n",
      "    4.   \"HR\" 834938.099710 \n",
      "\n",
      "\n",
      "\n",
      "Winner take all: true\n",
      "Out-of-bag evaluation: accuracy:0.995713 logloss:0.0224976\n",
      "Number of trees: 300\n",
      "Total number of nodes: 114086\n",
      "\n",
      "Number of nodes by tree:\n",
      "Count: 300 Average: 380.287 StdDev: 19.1878\n",
      "Min: 321 Max: 437 Ignored: 0\n",
      "----------------------------------------------\n",
      "[ 321, 326)  1   0.33%   0.33%\n",
      "[ 326, 332)  0   0.00%   0.33%\n",
      "[ 332, 338)  2   0.67%   1.00%\n",
      "[ 338, 344)  4   1.33%   2.33% #\n",
      "[ 344, 350)  9   3.00%   5.33% ##\n",
      "[ 350, 356) 16   5.33%  10.67% ###\n",
      "[ 356, 361) 15   5.00%  15.67% ###\n",
      "[ 361, 367) 20   6.67%  22.33% ####\n",
      "[ 367, 373) 31  10.33%  32.67% ######\n",
      "[ 373, 379) 38  12.67%  45.33% ########\n",
      "[ 379, 385) 48  16.00%  61.33% ##########\n",
      "[ 385, 391) 23   7.67%  69.00% #####\n",
      "[ 391, 397) 26   8.67%  77.67% #####\n",
      "[ 397, 402) 28   9.33%  87.00% ######\n",
      "[ 402, 408) 14   4.67%  91.67% ###\n",
      "[ 408, 414) 11   3.67%  95.33% ##\n",
      "[ 414, 420)  8   2.67%  98.00% ##\n",
      "[ 420, 426)  4   1.33%  99.33% #\n",
      "[ 426, 432)  1   0.33%  99.67%\n",
      "[ 432, 437]  1   0.33% 100.00%\n",
      "\n",
      "Depth by leafs:\n",
      "Count: 57193 Average: 10.7563 StdDev: 2.77835\n",
      "Min: 2 Max: 15 Ignored: 0\n",
      "----------------------------------------------\n",
      "[  2,  3)  298   0.52%   0.52%\n",
      "[  3,  4)  447   0.78%   1.30% #\n",
      "[  4,  5)  790   1.38%   2.68% #\n",
      "[  5,  6)  941   1.65%   4.33% #\n",
      "[  6,  7) 1527   2.67%   7.00% ##\n",
      "[  7,  8) 3019   5.28%  12.28% ####\n",
      "[  8,  9) 4354   7.61%  19.89% #####\n",
      "[  9, 10) 6137  10.73%  30.62% ########\n",
      "[ 10, 11) 7635  13.35%  43.97% ##########\n",
      "[ 11, 12) 7918  13.84%  57.81% ##########\n",
      "[ 12, 13) 7540  13.18%  71.00% ##########\n",
      "[ 13, 14) 6374  11.14%  82.14% ########\n",
      "[ 14, 15) 4963   8.68%  90.82% ######\n",
      "[ 15, 15] 5250   9.18% 100.00% #######\n",
      "\n",
      "Number of training obs by leaf:\n",
      "Count: 57193 Average: 419.632 StdDev: 1535.4\n",
      "Min: 5 Max: 15159 Ignored: 0\n",
      "----------------------------------------------\n",
      "[     5,   762) 52234  91.33%  91.33% ##########\n",
      "[   762,  1520)   599   1.05%  92.38%\n",
      "[  1520,  2278)   352   0.62%  92.99%\n",
      "[  2278,  3036)   384   0.67%  93.66%\n",
      "[  3036,  3793)   145   0.25%  93.92%\n",
      "[  3793,  4551)   292   0.51%  94.43%\n",
      "[  4551,  5309)  2887   5.05%  99.48% #\n",
      "[  5309,  6067)     0   0.00%  99.48%\n",
      "[  6067,  6824)     0   0.00%  99.48%\n",
      "[  6824,  7582)     0   0.00%  99.48%\n",
      "[  7582,  8340)     0   0.00%  99.48%\n",
      "[  8340,  9098)     0   0.00%  99.48%\n",
      "[  9098,  9855)     0   0.00%  99.48%\n",
      "[  9855, 10613)     0   0.00%  99.48%\n",
      "[ 10613, 11371)     0   0.00%  99.48%\n",
      "[ 11371, 12129)     0   0.00%  99.48%\n",
      "[ 12129, 12886)     1   0.00%  99.48%\n",
      "[ 12886, 13644)     0   0.00%  99.48%\n",
      "[ 13644, 14402)     1   0.00%  99.48%\n",
      "[ 14402, 15159]   298   0.52% 100.00%\n",
      "\n",
      "Attribute in nodes:\n",
      "\t23502 : WBC [NUMERICAL]\n",
      "\t15647 : HR [NUMERICAL]\n",
      "\t10741 : Temp [NUMERICAL]\n",
      "\t7003 : Resp [NUMERICAL]\n",
      "\n",
      "Attribute in nodes with depth <= 0:\n",
      "\t229 : Temp [NUMERICAL]\n",
      "\t71 : HR [NUMERICAL]\n",
      "\n",
      "Attribute in nodes with depth <= 1:\n",
      "\t461 : Temp [NUMERICAL]\n",
      "\t207 : WBC [NUMERICAL]\n",
      "\t201 : HR [NUMERICAL]\n",
      "\t31 : Resp [NUMERICAL]\n",
      "\n",
      "Attribute in nodes with depth <= 2:\n",
      "\t611 : Temp [NUMERICAL]\n",
      "\t550 : WBC [NUMERICAL]\n",
      "\t412 : HR [NUMERICAL]\n",
      "\t229 : Resp [NUMERICAL]\n",
      "\n",
      "Attribute in nodes with depth <= 3:\n",
      "\t1127 : WBC [NUMERICAL]\n",
      "\t804 : Temp [NUMERICAL]\n",
      "\t627 : HR [NUMERICAL]\n",
      "\t601 : Resp [NUMERICAL]\n",
      "\n",
      "Attribute in nodes with depth <= 5:\n",
      "\t2992 : WBC [NUMERICAL]\n",
      "\t1793 : Resp [NUMERICAL]\n",
      "\t1757 : Temp [NUMERICAL]\n",
      "\t1448 : HR [NUMERICAL]\n",
      "\n",
      "Condition type in nodes:\n",
      "\t56893 : HigherCondition\n",
      "Condition type in nodes with depth <= 0:\n",
      "\t300 : HigherCondition\n",
      "Condition type in nodes with depth <= 1:\n",
      "\t900 : HigherCondition\n",
      "Condition type in nodes with depth <= 2:\n",
      "\t1802 : HigherCondition\n",
      "Condition type in nodes with depth <= 3:\n",
      "\t3159 : HigherCondition\n",
      "Condition type in nodes with depth <= 5:\n",
      "\t7990 : HigherCondition\n",
      "Node format: NOT_SET\n",
      "\n",
      "Training OOB:\n",
      "\ttrees: 1, Out-of-bag evaluation: accuracy:0.993666 logloss:0.22831\n",
      "\ttrees: 11, Out-of-bag evaluation: accuracy:0.99522 logloss:0.0957571\n",
      "\ttrees: 21, Out-of-bag evaluation: accuracy:0.995475 logloss:0.0667152\n",
      "\ttrees: 31, Out-of-bag evaluation: accuracy:0.995588 logloss:0.057516\n",
      "\ttrees: 41, Out-of-bag evaluation: accuracy:0.995538 logloss:0.0496036\n",
      "\ttrees: 51, Out-of-bag evaluation: accuracy:0.995637 logloss:0.0429512\n",
      "\ttrees: 63, Out-of-bag evaluation: accuracy:0.995625 logloss:0.0409077\n",
      "\ttrees: 75, Out-of-bag evaluation: accuracy:0.995687 logloss:0.0368661\n",
      "\ttrees: 85, Out-of-bag evaluation: accuracy:0.9957 logloss:0.0340525\n",
      "\ttrees: 95, Out-of-bag evaluation: accuracy:0.995663 logloss:0.0320686\n",
      "\ttrees: 110, Out-of-bag evaluation: accuracy:0.995588 logloss:0.031694\n",
      "\ttrees: 120, Out-of-bag evaluation: accuracy:0.9956 logloss:0.0296245\n",
      "\ttrees: 130, Out-of-bag evaluation: accuracy:0.995613 logloss:0.0292217\n",
      "\ttrees: 140, Out-of-bag evaluation: accuracy:0.9956 logloss:0.0288106\n",
      "\ttrees: 150, Out-of-bag evaluation: accuracy:0.99565 logloss:0.0284376\n",
      "\ttrees: 160, Out-of-bag evaluation: accuracy:0.99565 logloss:0.0280342\n",
      "\ttrees: 170, Out-of-bag evaluation: accuracy:0.995625 logloss:0.0276357\n",
      "\ttrees: 180, Out-of-bag evaluation: accuracy:0.995663 logloss:0.0276434\n",
      "\ttrees: 190, Out-of-bag evaluation: accuracy:0.995613 logloss:0.0264706\n",
      "\ttrees: 200, Out-of-bag evaluation: accuracy:0.995663 logloss:0.0264695\n",
      "\ttrees: 210, Out-of-bag evaluation: accuracy:0.995687 logloss:0.0260678\n",
      "\ttrees: 220, Out-of-bag evaluation: accuracy:0.995663 logloss:0.0249071\n",
      "\ttrees: 230, Out-of-bag evaluation: accuracy:0.995675 logloss:0.0249173\n",
      "\ttrees: 240, Out-of-bag evaluation: accuracy:0.995725 logloss:0.0245355\n",
      "\ttrees: 250, Out-of-bag evaluation: accuracy:0.995725 logloss:0.0237397\n",
      "\ttrees: 260, Out-of-bag evaluation: accuracy:0.995725 logloss:0.023745\n",
      "\ttrees: 270, Out-of-bag evaluation: accuracy:0.995725 logloss:0.0233312\n",
      "\ttrees: 280, Out-of-bag evaluation: accuracy:0.9957 logloss:0.0229465\n",
      "\ttrees: 290, Out-of-bag evaluation: accuracy:0.995687 logloss:0.0229273\n",
      "\ttrees: 300, Out-of-bag evaluation: accuracy:0.995713 logloss:0.0224976\n",
      "\n"
     ]
    }
   ],
   "source": [
    "model.summary()"
   ]
  },
  {
   "cell_type": "markdown",
   "id": "40b9a224-6e95-49ac-a2ac-e15dc16e1d5a",
   "metadata": {},
   "source": [
    "Plotting of decision forest models.\n",
    "\n",
    "The root node on the left contains the first condition (HR >= 38.5500), number of examples (80000) and label distribution (the red-blue-green bar).\n",
    "\n",
    "Examples that evaluates true to WBC >= 11.9850 are branched to the green path. The other ones are branched to the red path.\n",
    "\n",
    "The deeper the node, the more pure they become i.e. the label distribution is biased toward a subset of classes.\n",
    "\n",
    "In this tree:\n",
    "- The colors red represents not septic (0) and blue represents septic (1).\n",
    "- The first decision is based on HR. \n",
    "- As you move further into the forest, look for the decision where the blue (Septic) records becomes more obvious."
   ]
  },
  {
   "cell_type": "code",
   "execution_count": 13,
   "id": "eb781eaf-1551-427f-836c-b0bb727e6b63",
   "metadata": {},
   "outputs": [
    {
     "data": {
      "text/html": [
       "\n",
       "<script src=\"https://d3js.org/d3.v6.min.js\"></script>\n",
       "<div id=\"tree_plot_aa6948ed747c411dbbad424913313e46\"></div>\n",
       "<script>\n",
       "/*\n",
       " * Copyright 2021 Google LLC.\n",
       " * Licensed under the Apache License, Version 2.0 (the \"License\");\n",
       " * you may not use this file except in compliance with the License.\n",
       " * You may obtain a copy of the License at\n",
       " *\n",
       " *     https://www.apache.org/licenses/LICENSE-2.0\n",
       " *\n",
       " * Unless required by applicable law or agreed to in writing, software\n",
       " * distributed under the License is distributed on an \"AS IS\" BASIS,\n",
       " * WITHOUT WARRANTIES OR CONDITIONS OF ANY KIND, either express or implied.\n",
       " * See the License for the specific language governing permissions and\n",
       " * limitations under the License.\n",
       " */\n",
       "\n",
       "/**\n",
       " *  Plotting of decision trees generated by TF-DF.\n",
       " *\n",
       " *  A tree is a recursive structure of node objects.\n",
       " *  A node contains one or more of the following components:\n",
       " *\n",
       " *    - A value: Representing the output of the node. If the node is not a leaf,\n",
       " *      the value is only present for analysis i.e. it is not used for\n",
       " *      predictions.\n",
       " *\n",
       " *    - A condition : For non-leaf nodes, the condition (also known as split)\n",
       " *      defines a binary test to branch to the positive or negative child.\n",
       " *\n",
       " *    - An explanation: Generally a plot showing the relation between the label\n",
       " *      and the condition to give insights about the effect of the condition.\n",
       " *\n",
       " *    - Two children : For non-leaf nodes, the children nodes. The first\n",
       " *      children (i.e. \"node.children[0]\") is the negative children (drawn in\n",
       " *      red). The second children is the positive one (drawn in green).\n",
       " *\n",
       " */\n",
       "\n",
       "/**\n",
       " * Plots a single decision tree into a DOM element.\n",
       " * @param {!options} options Dictionary of configurations.\n",
       " * @param {!tree} raw_tree Recursive tree structure.\n",
       " * @param {string} canvas_id Id of the output dom element.\n",
       " */\n",
       "function display_tree(options, raw_tree, canvas_id) {\n",
       "  console.log(options);\n",
       "\n",
       "  // Determine the node placement.\n",
       "  const tree_struct = d3.tree().nodeSize(\n",
       "      [options.node_y_offset, options.node_x_offset])(d3.hierarchy(raw_tree));\n",
       "\n",
       "  // Boundaries of the node placement.\n",
       "  let x_min = Infinity;\n",
       "  let x_max = -x_min;\n",
       "  let y_min = Infinity;\n",
       "  let y_max = -x_min;\n",
       "\n",
       "  tree_struct.each(d => {\n",
       "    if (d.x > x_max) x_max = d.x;\n",
       "    if (d.x < x_min) x_min = d.x;\n",
       "    if (d.y > y_max) y_max = d.y;\n",
       "    if (d.y < y_min) y_min = d.y;\n",
       "  });\n",
       "\n",
       "  // Size of the plot.\n",
       "  const width = y_max - y_min + options.node_x_size + options.margin * 2;\n",
       "  const height = x_max - x_min + options.node_y_size + options.margin * 2 +\n",
       "      options.node_y_offset - options.node_y_size;\n",
       "\n",
       "  const plot = d3.select(canvas_id);\n",
       "\n",
       "  // Tool tip\n",
       "  options.tooltip = plot.append('div')\n",
       "                        .attr('width', 100)\n",
       "                        .attr('height', 100)\n",
       "                        .style('padding', '4px')\n",
       "                        .style('background', '#fff')\n",
       "                        .style('box-shadow', '4px 4px 0px rgba(0,0,0,0.1)')\n",
       "                        .style('border', '1px solid black')\n",
       "                        .style('font-family', 'sans-serif')\n",
       "                        .style('font-size', options.font_size)\n",
       "                        .style('position', 'absolute')\n",
       "                        .style('z-index', '10')\n",
       "                        .attr('pointer-events', 'none')\n",
       "                        .style('display', 'none');\n",
       "\n",
       "  // Create canvas\n",
       "  const svg = plot.append('svg').attr('width', width).attr('height', height);\n",
       "  const graph =\n",
       "      svg.style('overflow', 'visible')\n",
       "          .append('g')\n",
       "          .attr('font-family', 'sans-serif')\n",
       "          .attr('font-size', options.font_size)\n",
       "          .attr(\n",
       "              'transform',\n",
       "              () => `translate(${options.margin},${\n",
       "                  - x_min + options.node_y_offset / 2 + options.margin})`);\n",
       "\n",
       "  // Plot bounding box.\n",
       "  if (options.show_plot_bounding_box) {\n",
       "    svg.append('rect')\n",
       "        .attr('width', width)\n",
       "        .attr('height', height)\n",
       "        .attr('fill', 'none')\n",
       "        .attr('stroke-width', 1.0)\n",
       "        .attr('stroke', 'black');\n",
       "  }\n",
       "\n",
       "  // Draw the edges.\n",
       "  display_edges(options, graph, tree_struct);\n",
       "\n",
       "  // Draw the nodes.\n",
       "  display_nodes(options, graph, tree_struct);\n",
       "}\n",
       "\n",
       "/**\n",
       " * Draw the nodes of the tree.\n",
       " * @param {!options} options Dictionary of configurations.\n",
       " * @param {!graph} graph D3 search handle containing the graph.\n",
       " * @param {!tree_struct} tree_struct Structure of the tree (node placement,\n",
       " *     data, etc.).\n",
       " */\n",
       "function display_nodes(options, graph, tree_struct) {\n",
       "  const nodes = graph.append('g')\n",
       "                    .selectAll('g')\n",
       "                    .data(tree_struct.descendants())\n",
       "                    .join('g')\n",
       "                    .attr('transform', d => `translate(${d.y},${d.x})`);\n",
       "\n",
       "  nodes.append('rect')\n",
       "      .attr('x', 0.5)\n",
       "      .attr('y', 0.5)\n",
       "      .attr('width', options.node_x_size)\n",
       "      .attr('height', options.node_y_size)\n",
       "      .attr('stroke', 'lightgrey')\n",
       "      .attr('stroke-width', 1)\n",
       "      .attr('fill', 'white')\n",
       "      .attr('y', -options.node_y_size / 2);\n",
       "\n",
       "  // Brackets on the right of condition nodes without children.\n",
       "  non_leaf_node_without_children =\n",
       "      nodes.filter(node => node.data.condition != null && node.children == null)\n",
       "          .append('g')\n",
       "          .attr('transform', `translate(${options.node_x_size},0)`);\n",
       "\n",
       "  non_leaf_node_without_children.append('path')\n",
       "      .attr('d', 'M0,0 C 10,0 0,10 10,10')\n",
       "      .attr('fill', 'none')\n",
       "      .attr('stroke-width', 1.0)\n",
       "      .attr('stroke', '#F00');\n",
       "\n",
       "  non_leaf_node_without_children.append('path')\n",
       "      .attr('d', 'M0,0 C 10,0 0,-10 10,-10')\n",
       "      .attr('fill', 'none')\n",
       "      .attr('stroke-width', 1.0)\n",
       "      .attr('stroke', '#0F0');\n",
       "\n",
       "  const node_content = nodes.append('g').attr(\n",
       "      'transform',\n",
       "      `translate(0,${options.node_padding - options.node_y_size / 2})`);\n",
       "\n",
       "  node_content.append(node => create_node_element(options, node));\n",
       "}\n",
       "\n",
       "/**\n",
       " * Creates the D3 content for a single node.\n",
       " * @param {!options} options Dictionary of configurations.\n",
       " * @param {!node} node Node to draw.\n",
       " * @return {!d3} D3 content.\n",
       " */\n",
       "function create_node_element(options, node) {\n",
       "  // Output accumulator.\n",
       "  let output = {\n",
       "    // Content to draw.\n",
       "    content: d3.create('svg:g'),\n",
       "    // Vertical offset to the next element to draw.\n",
       "    vertical_offset: 0\n",
       "  };\n",
       "\n",
       "  // Conditions.\n",
       "  if (node.data.condition != null) {\n",
       "    display_condition(options, node.data.condition, output);\n",
       "  }\n",
       "\n",
       "  // Values.\n",
       "  if (node.data.value != null) {\n",
       "    display_value(options, node.data.value, output);\n",
       "  }\n",
       "\n",
       "  // Explanations.\n",
       "  if (node.data.explanation != null) {\n",
       "    display_explanation(options, node.data.explanation, output);\n",
       "  }\n",
       "\n",
       "  return output.content.node();\n",
       "}\n",
       "\n",
       "\n",
       "/**\n",
       " * Adds a single line of text inside of a node.\n",
       " * @param {!options} options Dictionary of configurations.\n",
       " * @param {string} text Text to display.\n",
       " * @param {!output} output Output display accumulator.\n",
       " */\n",
       "function display_node_text(options, text, output) {\n",
       "  output.content.append('text')\n",
       "      .attr('x', options.node_padding)\n",
       "      .attr('y', output.vertical_offset)\n",
       "      .attr('alignment-baseline', 'hanging')\n",
       "      .text(text);\n",
       "  output.vertical_offset += 10;\n",
       "}\n",
       "\n",
       "/**\n",
       " * Adds a single line of text inside of a node with a tooltip.\n",
       " * @param {!options} options Dictionary of configurations.\n",
       " * @param {string} text Text to display.\n",
       " * @param {string} tooltip Text in the Tooltip.\n",
       " * @param {!output} output Output display accumulator.\n",
       " */\n",
       "function display_node_text_with_tooltip(options, text, tooltip, output) {\n",
       "  const item = output.content.append('text')\n",
       "                   .attr('x', options.node_padding)\n",
       "                   .attr('alignment-baseline', 'hanging')\n",
       "                   .text(text);\n",
       "\n",
       "  add_tooltip(options, item, () => tooltip);\n",
       "  output.vertical_offset += 10;\n",
       "}\n",
       "\n",
       "/**\n",
       " * Adds a tooltip to a dom element.\n",
       " * @param {!options} options Dictionary of configurations.\n",
       " * @param {!dom} target Dom element to equip with a tooltip.\n",
       " * @param {!func} get_content Generates the html content of the tooltip.\n",
       " */\n",
       "function add_tooltip(options, target, get_content) {\n",
       "  function show(d) {\n",
       "    options.tooltip.style('display', 'block');\n",
       "    options.tooltip.html(get_content());\n",
       "  }\n",
       "\n",
       "  function hide(d) {\n",
       "    options.tooltip.style('display', 'none');\n",
       "  }\n",
       "\n",
       "  function move(d) {\n",
       "    options.tooltip.style('display', 'block');\n",
       "    options.tooltip.style('left', (d.pageX + 5) + 'px');\n",
       "    options.tooltip.style('top', d.pageY + 'px');\n",
       "  }\n",
       "\n",
       "  target.on('mouseover', show);\n",
       "  target.on('mouseout', hide);\n",
       "  target.on('mousemove', move);\n",
       "}\n",
       "\n",
       "/**\n",
       " * Adds a condition inside of a node.\n",
       " * @param {!options} options Dictionary of configurations.\n",
       " * @param {!condition} condition Condition to display.\n",
       " * @param {!output} output Output display accumulator.\n",
       " */\n",
       "function display_condition(options, condition, output) {\n",
       "  threshold_format = d3.format('r');\n",
       "\n",
       "  if (condition.type === 'IS_MISSING') {\n",
       "    display_node_text(options, `${condition.attribute} is missing`, output);\n",
       "    return;\n",
       "  }\n",
       "\n",
       "  if (condition.type === 'IS_TRUE') {\n",
       "    display_node_text(options, `${condition.attribute} is true`, output);\n",
       "    return;\n",
       "  }\n",
       "\n",
       "  if (condition.type === 'NUMERICAL_IS_HIGHER_THAN') {\n",
       "    format = d3.format('r');\n",
       "    display_node_text(\n",
       "        options,\n",
       "        `${condition.attribute} >= ${threshold_format(condition.threshold)}`,\n",
       "        output);\n",
       "    return;\n",
       "  }\n",
       "\n",
       "  if (condition.type === 'CATEGORICAL_IS_IN') {\n",
       "    display_node_text_with_tooltip(\n",
       "        options, `${condition.attribute} in [...]`,\n",
       "        `${condition.attribute} in [${condition.mask}]`, output);\n",
       "    return;\n",
       "  }\n",
       "\n",
       "  if (condition.type === 'CATEGORICAL_SET_CONTAINS') {\n",
       "    display_node_text_with_tooltip(\n",
       "        options, `${condition.attribute} intersect [...]`,\n",
       "        `${condition.attribute} intersect [${condition.mask}]`, output);\n",
       "    return;\n",
       "  }\n",
       "\n",
       "  if (condition.type === 'NUMERICAL_SPARSE_OBLIQUE') {\n",
       "    display_node_text_with_tooltip(\n",
       "        options, `Sparse oblique split...`,\n",
       "        `[${condition.attributes}]*[${condition.weights}]>=${\n",
       "            threshold_format(condition.threshold)}`,\n",
       "        output);\n",
       "    return;\n",
       "  }\n",
       "\n",
       "  display_node_text(\n",
       "      options, `Non supported condition ${condition.type}`, output);\n",
       "}\n",
       "\n",
       "/**\n",
       " * Adds a value inside of a node.\n",
       " * @param {!options} options Dictionary of configurations.\n",
       " * @param {!value} value Value to display.\n",
       " * @param {!output} output Output display accumulator.\n",
       " */\n",
       "function display_value(options, value, output) {\n",
       "  if (value.type === 'PROBABILITY') {\n",
       "    const left_margin = 0;\n",
       "    const right_margin = 50;\n",
       "    const plot_width = options.node_x_size - options.node_padding * 2 -\n",
       "        left_margin - right_margin;\n",
       "\n",
       "    let cusum = Array.from(d3.cumsum(value.distribution));\n",
       "    cusum.unshift(0);\n",
       "    const distribution_plot = output.content.append('g').attr(\n",
       "        'transform', `translate(0,${output.vertical_offset + 0.5})`);\n",
       "\n",
       "    distribution_plot.selectAll('rect')\n",
       "        .data(value.distribution)\n",
       "        .join('rect')\n",
       "        .attr('height', 10)\n",
       "        .attr(\n",
       "            'x',\n",
       "            (d, i) =>\n",
       "                (cusum[i] * plot_width + left_margin + options.node_padding))\n",
       "        .attr('width', (d, i) => d * plot_width)\n",
       "        .style('fill', (d, i) => d3.schemeSet1[i]);\n",
       "\n",
       "    const num_examples =\n",
       "        output.content.append('g')\n",
       "            .attr('transform', `translate(0,${output.vertical_offset})`)\n",
       "            .append('text')\n",
       "            .attr('x', options.node_x_size - options.node_padding)\n",
       "            .attr('alignment-baseline', 'hanging')\n",
       "            .attr('text-anchor', 'end')\n",
       "            .text(`(${value.num_examples})`);\n",
       "\n",
       "    const distribution_details = d3.create('ul');\n",
       "    distribution_details.selectAll('li')\n",
       "        .data(value.distribution)\n",
       "        .join('li')\n",
       "        .append('span')\n",
       "        .text(\n",
       "            (d, i) =>\n",
       "                'class ' + i + ': ' + d3.format('.3%')(value.distribution[i]));\n",
       "\n",
       "    add_tooltip(options, distribution_plot, () => distribution_details.html());\n",
       "    add_tooltip(options, num_examples, () => 'Number of examples');\n",
       "\n",
       "    output.vertical_offset += 10;\n",
       "    return;\n",
       "  }\n",
       "\n",
       "  if (value.type === 'REGRESSION') {\n",
       "    display_node_text(\n",
       "        options,\n",
       "        'value: ' + d3.format('r')(value.value) + ` (` +\n",
       "            d3.format('.6')(value.num_examples) + `)`,\n",
       "        output);\n",
       "    return;\n",
       "  }\n",
       "\n",
       "  display_node_text(options, `Non supported value ${value.type}`, output);\n",
       "}\n",
       "\n",
       "/**\n",
       " * Adds an explanation inside of a node.\n",
       " * @param {!options} options Dictionary of configurations.\n",
       " * @param {!explanation} explanation Explanation to display.\n",
       " * @param {!output} output Output display accumulator.\n",
       " */\n",
       "function display_explanation(options, explanation, output) {\n",
       "  // Margin before the explanation.\n",
       "  output.vertical_offset += 10;\n",
       "\n",
       "  display_node_text(\n",
       "      options, `Non supported explanation ${explanation.type}`, output);\n",
       "}\n",
       "\n",
       "\n",
       "/**\n",
       " * Draw the edges of the tree.\n",
       " * @param {!options} options Dictionary of configurations.\n",
       " * @param {!graph} graph D3 search handle containing the graph.\n",
       " * @param {!tree_struct} tree_struct Structure of the tree (node placement,\n",
       " *     data, etc.).\n",
       " */\n",
       "function display_edges(options, graph, tree_struct) {\n",
       "  // Draw an edge between a parent and a child node with a bezier.\n",
       "  function draw_single_edge(d) {\n",
       "    return 'M' + (d.source.y + options.node_x_size) + ',' + d.source.x + ' C' +\n",
       "        (d.source.y + options.node_x_size + options.edge_rounding) + ',' +\n",
       "        d.source.x + ' ' + (d.target.y - options.edge_rounding) + ',' +\n",
       "        d.target.x + ' ' + d.target.y + ',' + d.target.x;\n",
       "  }\n",
       "\n",
       "  graph.append('g')\n",
       "      .attr('fill', 'none')\n",
       "      .attr('stroke-width', 1.2)\n",
       "      .selectAll('path')\n",
       "      .data(tree_struct.links())\n",
       "      .join('path')\n",
       "      .attr('d', draw_single_edge)\n",
       "      .attr(\n",
       "          'stroke', d => (d.target === d.source.children[0]) ? '#0F0' : '#F00');\n",
       "}\n",
       "\n",
       "display_tree({\"margin\": 10, \"node_x_size\": 160, \"node_y_size\": 28, \"node_x_offset\": 180, \"node_y_offset\": 33, \"font_size\": 10, \"edge_rounding\": 20, \"node_padding\": 2, \"show_plot_bounding_box\": false}, {\"value\": {\"type\": \"PROBABILITY\", \"distribution\": [0.92915, 0.07085], \"num_examples\": 80000.0}, \"condition\": {\"type\": \"NUMERICAL_IS_HIGHER_THAN\", \"attribute\": \"Temp\", \"threshold\": 38.54999923706055}, \"children\": [{\"value\": {\"type\": \"PROBABILITY\", \"distribution\": [0.987279105603095, 0.01272089439690502], \"num_examples\": 30501.0}, \"condition\": {\"type\": \"NUMERICAL_IS_HIGHER_THAN\", \"attribute\": \"WBC\", \"threshold\": 11.984999656677246}, \"children\": [{\"value\": {\"type\": \"PROBABILITY\", \"distribution\": [1.0, 0.0], \"num_examples\": 15075.0}}, {\"value\": {\"type\": \"PROBABILITY\", \"distribution\": [0.9748476597951511, 0.025152340204848956], \"num_examples\": 15426.0}, \"condition\": {\"type\": \"NUMERICAL_IS_HIGHER_THAN\", \"attribute\": \"WBC\", \"threshold\": 4.015000343322754}, \"children\": [{\"value\": {\"type\": \"PROBABILITY\", \"distribution\": [0.9622641509433962, 0.03773584905660377], \"num_examples\": 10282.0}, \"condition\": {\"type\": \"NUMERICAL_IS_HIGHER_THAN\", \"attribute\": \"Resp\", \"threshold\": 20.5}, \"children\": [{\"value\": {\"type\": \"PROBABILITY\", \"distribution\": [1.0, 0.0], \"num_examples\": 4730.0}}, {\"value\": {\"type\": \"PROBABILITY\", \"distribution\": [0.9301152737752162, 0.06988472622478387], \"num_examples\": 5552.0}, \"condition\": {\"type\": \"NUMERICAL_IS_HIGHER_THAN\", \"attribute\": \"HR\", \"threshold\": 90.5}}]}, {\"value\": {\"type\": \"PROBABILITY\", \"distribution\": [1.0, 0.0], \"num_examples\": 5144.0}}]}]}, {\"value\": {\"type\": \"PROBABILITY\", \"distribution\": [0.8933311784076446, 0.1066688215923554], \"num_examples\": 49499.0}, \"condition\": {\"type\": \"NUMERICAL_IS_HIGHER_THAN\", \"attribute\": \"Temp\", \"threshold\": 36.04999923706055}, \"children\": [{\"value\": {\"type\": \"PROBABILITY\", \"distribution\": [0.8440428380187416, 0.15595716198125836], \"num_examples\": 28386.0}, \"condition\": {\"type\": \"NUMERICAL_IS_HIGHER_THAN\", \"attribute\": \"HR\", \"threshold\": 90.5}, \"children\": [{\"value\": {\"type\": \"PROBABILITY\", \"distribution\": [0.9477646134712313, 0.05223538652876874], \"num_examples\": 15277.0}, \"condition\": {\"type\": \"NUMERICAL_IS_HIGHER_THAN\", \"attribute\": \"WBC\", \"threshold\": 4.025000095367432}, \"children\": [{\"value\": {\"type\": \"PROBABILITY\", \"distribution\": [0.923723953354999, 0.07627604664500096], \"num_examples\": 10462.0}, \"condition\": {\"type\": \"NUMERICAL_IS_HIGHER_THAN\", \"attribute\": \"WBC\", \"threshold\": 11.984999656677246}}, {\"value\": {\"type\": \"PROBABILITY\", \"distribution\": [1.0, 0.0], \"num_examples\": 4815.0}}]}, {\"value\": {\"type\": \"PROBABILITY\", \"distribution\": [0.7231672896483332, 0.2768327103516668], \"num_examples\": 13109.0}, \"condition\": {\"type\": \"NUMERICAL_IS_HIGHER_THAN\", \"attribute\": \"Resp\", \"threshold\": 19.5}, \"children\": [{\"value\": {\"type\": \"PROBABILITY\", \"distribution\": [0.9049487891260649, 0.0950512108739351], \"num_examples\": 10447.0}, \"condition\": {\"type\": \"NUMERICAL_IS_HIGHER_THAN\", \"attribute\": \"WBC\", \"threshold\": 12.005000114440918}}, {\"value\": {\"type\": \"PROBABILITY\", \"distribution\": [0.009767092411720512, 0.9902329075882795], \"num_examples\": 2662.0}, \"condition\": {\"type\": \"NUMERICAL_IS_HIGHER_THAN\", \"attribute\": \"HR\", \"threshold\": 89.5}}]}]}, {\"value\": {\"type\": \"PROBABILITY\", \"distribution\": [0.9595983517264245, 0.04040164827357552], \"num_examples\": 21113.0}, \"condition\": {\"type\": \"NUMERICAL_IS_HIGHER_THAN\", \"attribute\": \"Resp\", \"threshold\": 20.5}, \"children\": [{\"value\": {\"type\": \"PROBABILITY\", \"distribution\": [0.9988392338943702, 0.0011607661056297156], \"num_examples\": 5169.0}, \"condition\": {\"type\": \"NUMERICAL_IS_HIGHER_THAN\", \"attribute\": \"HR\", \"threshold\": 78.5}, \"children\": [{\"value\": {\"type\": \"PROBABILITY\", \"distribution\": [0.997148288973384, 0.0028517110266159697], \"num_examples\": 2104.0}, \"condition\": {\"type\": \"NUMERICAL_IS_HIGHER_THAN\", \"attribute\": \"Temp\", \"threshold\": 35.95000076293945}}, {\"value\": {\"type\": \"PROBABILITY\", \"distribution\": [1.0, 0.0], \"num_examples\": 3065.0}}]}, {\"value\": {\"type\": \"PROBABILITY\", \"distribution\": [0.9468765679879578, 0.05312343201204215], \"num_examples\": 15944.0}, \"condition\": {\"type\": \"NUMERICAL_IS_HIGHER_THAN\", \"attribute\": \"WBC\", \"threshold\": 11.994999885559082}, \"children\": [{\"value\": {\"type\": \"PROBABILITY\", \"distribution\": [0.9963249516441006, 0.0036750483558994195], \"num_examples\": 5170.0}, \"condition\": {\"type\": \"NUMERICAL_IS_HIGHER_THAN\", \"attribute\": \"Temp\", \"threshold\": 35.95000076293945}}, {\"value\": {\"type\": \"PROBABILITY\", \"distribution\": [0.9231483200297012, 0.07685167997029886], \"num_examples\": 10774.0}, \"condition\": {\"type\": \"NUMERICAL_IS_HIGHER_THAN\", \"attribute\": \"WBC\", \"threshold\": 4.034999847412109}}]}]}]}]}, \"#tree_plot_aa6948ed747c411dbbad424913313e46\")\n",
       "</script>\n"
      ],
      "text/plain": [
       "<IPython.core.display.HTML object>"
      ]
     },
     "execution_count": 13,
     "metadata": {},
     "output_type": "execute_result"
    }
   ],
   "source": [
    "tfdf.model_plotter.plot_model_in_colab(model, tree_idx=0, max_depth=4)"
   ]
  },
  {
   "cell_type": "markdown",
   "id": "7874e32b-e06f-4e97-80d3-4b4ef77c4e35",
   "metadata": {},
   "source": [
    "This dataset is small. You can see the model converging almost immediately."
   ]
  },
  {
   "cell_type": "code",
   "execution_count": 14,
   "id": "1af163e3-b572-4e13-8f50-b120f7afd968",
   "metadata": {},
   "outputs": [
    {
     "data": {
      "image/png": "[encoded data removed]",
      "text/plain": [
       "<Figure size 864x288 with 2 Axes>"
      ]
     },
     "metadata": {
      "needs_background": "light"
     },
     "output_type": "display_data"
    }
   ],
   "source": [
    "import matplotlib.pyplot as plt\n",
    "\n",
    "logs = model.make_inspector().training_logs()\n",
    "\n",
    "plt.figure(figsize=(12, 4))\n",
    "\n",
    "plt.subplot(1, 2, 1)\n",
    "plt.plot([log.num_trees for log in logs], [log.evaluation.accuracy for log in logs])\n",
    "plt.xlabel(\"Number of trees\")\n",
    "plt.ylabel(\"Accuracy (out-of-bag)\")\n",
    "\n",
    "plt.subplot(1, 2, 2)\n",
    "plt.plot([log.num_trees for log in logs], [log.evaluation.loss for log in logs])\n",
    "plt.xlabel(\"Number of trees\")\n",
    "plt.ylabel(\"Logloss (out-of-bag)\")\n",
    "\n",
    "plt.show()"
   ]
  },
  {
   "cell_type": "markdown",
   "id": "a6a7554a-e0e4-4fc9-aa87-94658b582a3e",
   "metadata": {},
   "source": [
    "## Evaluate the model\n",
    "\n",
    "Let's evaluate our model on the test dataset."
   ]
  },
  {
   "cell_type": "code",
   "execution_count": 15,
   "id": "3654a2b3-6b5d-4124-a5b4-7ec98b48d734",
   "metadata": {},
   "outputs": [
    {
     "name": "stdout",
     "output_type": "stream",
     "text": [
      "20/20 [==============================] - 1s 18ms/step - loss: 0.0000e+00 - accuracy: 0.9952\n",
      "\n",
      "loss: 0.0000\n",
      "accuracy: 0.9952\n"
     ]
    }
   ],
   "source": [
    "model.compile(metrics=[\"accuracy\"])\n",
    "evaluation = model.evaluate(test_ds, return_dict=True)\n",
    "print()\n",
    "\n",
    "for name, value in evaluation.items():\n",
    "  print(f\"{name}: {value:.4f}\")"
   ]
  },
  {
   "cell_type": "markdown",
   "id": "3d38c8c3-3c6d-49ba-a4bd-304cca9fbbf0",
   "metadata": {},
   "source": [
    "Remark: The test accuracy (`0.9953`) is close to the Out-of-bag accuracy (`0.995613`) shown in the training logs."
   ]
  },
  {
   "cell_type": "markdown",
   "id": "ea7ae845-acbc-4449-970b-d4da3ddbb47d",
   "metadata": {},
   "source": [
    "## Prepare this model for TensorFlow Serving.\n",
    "\n",
    "Export the model to the SavedModel format for later re-use e.g. TensorFlow Serving."
   ]
  },
  {
   "cell_type": "code",
   "execution_count": 51,
   "id": "92ea6cd0-b9db-4094-83c2-9cab9626f2c4",
   "metadata": {},
   "outputs": [
    {
     "name": "stderr",
     "output_type": "stream",
     "text": [
      "WARNING:absl:Function `_wrapped_model` contains input name(s) HR, Resp, Temp, WBC with unsupported characters which will be renamed to hr, resp, temp, wbc in the SavedModel.\n",
      "WARNING:absl:Found untraced functions such as call_get_leaves while saving (showing 1 of 1). These functions will not be directly callable after loading.\n"
     ]
    },
    {
     "name": "stdout",
     "output_type": "stream",
     "text": [
      "INFO:tensorflow:Assets written to: ../models/no-mlops/1.0.no_mlops_sepsis_rfc/assets\n"
     ]
    },
    {
     "name": "stderr",
     "output_type": "stream",
     "text": [
      "INFO:tensorflow:Assets written to: ../models/no-mlops/1.0.no_mlops_sepsis_rfc/assets\n"
     ]
    }
   ],
   "source": [
    "# Model versioning\n",
    "# MAJOR.MINOR.PIPELINE\n",
    "# 1. MAJOR: increases when incompatible data changes, schema or target variable change, that renders model incompatible when used for predictions\n",
    "# 2. MINOR: increases when model performance is improved\n",
    "# 3. PIPELINE: correspond to an update to training pipeline but may not change the model itself\n",
    "\n",
    "model.save(\"../models/no-mlops/1.0.no_mlops_sepsis_rfc\")"
   ]
  },
  {
   "cell_type": "markdown",
   "id": "a0d0a576-dd9d-4852-ab94-06ed539dcf69",
   "metadata": {},
   "source": [
    "# Demonstrate Prediction\n",
    "\n",
    "A sample of new unlabelled data is saved in the data/serving_data directory. \n",
    "- contains 21 records with no label\n",
    "- the first 6 records are not septic (rows 0 through 5)\n",
    "- the remaining 15 records are septic (rows 6 through 20)"
   ]
  },
  {
   "cell_type": "code",
   "execution_count": 65,
   "id": "fb0d947a-1509-49d8-a2e7-f657bc9dfd80",
   "metadata": {},
   "outputs": [
    {
     "name": "stderr",
     "output_type": "stream",
     "text": [
      "[INFO kernel.cc:1176] Loading model from path ../models/no-mlops/1.0.no_mlops_sepsis_rfc/assets/ with prefix 4f3c8c8cc6514eb9\n",
      "[INFO decision_forest.cc:639] Model loaded with 300 root(s), 114086 node(s), and 4 input feature(s).\n",
      "[INFO abstract_model.cc:1248] Engine \"RandomForestOptPred\" built\n",
      "[INFO kernel.cc:1022] Use fast generic engine\n"
     ]
    }
   ],
   "source": [
    "# load the saved model\n",
    "import keras\n",
    "sepsis = keras.models.load_model('../models/no-mlops/1.0.no_mlops_sepsis_rfc/')"
   ]
  },
  {
   "cell_type": "code",
   "execution_count": 66,
   "id": "908b13c3-6e93-4c2d-9989-b72e4e1adf0e",
   "metadata": {},
   "outputs": [
    {
     "data": {
      "text/html": [
       "<div>\n",
       "<style scoped>\n",
       "    .dataframe tbody tr th:only-of-type {\n",
       "        vertical-align: middle;\n",
       "    }\n",
       "\n",
       "    .dataframe tbody tr th {\n",
       "        vertical-align: top;\n",
       "    }\n",
       "\n",
       "    .dataframe thead th {\n",
       "        text-align: right;\n",
       "    }\n",
       "</style>\n",
       "<table border=\"1\" class=\"dataframe\">\n",
       "  <thead>\n",
       "    <tr style=\"text-align: right;\">\n",
       "      <th></th>\n",
       "      <th>Temp</th>\n",
       "      <th>HR</th>\n",
       "      <th>Resp</th>\n",
       "      <th>WBC</th>\n",
       "    </tr>\n",
       "  </thead>\n",
       "  <tbody>\n",
       "    <tr>\n",
       "      <th>0</th>\n",
       "      <td>39.52</td>\n",
       "      <td>61.39</td>\n",
       "      <td>13.60</td>\n",
       "      <td>9.98</td>\n",
       "    </tr>\n",
       "    <tr>\n",
       "      <th>1</th>\n",
       "      <td>35.50</td>\n",
       "      <td>89.70</td>\n",
       "      <td>13.19</td>\n",
       "      <td>6.11</td>\n",
       "    </tr>\n",
       "    <tr>\n",
       "      <th>2</th>\n",
       "      <td>36.87</td>\n",
       "      <td>225.42</td>\n",
       "      <td>13.46</td>\n",
       "      <td>5.16</td>\n",
       "    </tr>\n",
       "    <tr>\n",
       "      <th>3</th>\n",
       "      <td>37.41</td>\n",
       "      <td>85.06</td>\n",
       "      <td>23.97</td>\n",
       "      <td>10.95</td>\n",
       "    </tr>\n",
       "    <tr>\n",
       "      <th>4</th>\n",
       "      <td>37.56</td>\n",
       "      <td>89.05</td>\n",
       "      <td>17.36</td>\n",
       "      <td>20.76</td>\n",
       "    </tr>\n",
       "  </tbody>\n",
       "</table>\n",
       "</div>"
      ],
      "text/plain": [
       "    Temp      HR   Resp    WBC\n",
       "0  39.52   61.39  13.60   9.98\n",
       "1  35.50   89.70  13.19   6.11\n",
       "2  36.87  225.42  13.46   5.16\n",
       "3  37.41   85.06  23.97  10.95\n",
       "4  37.56   89.05  17.36  20.76"
      ]
     },
     "execution_count": 66,
     "metadata": {},
     "output_type": "execute_result"
    }
   ],
   "source": [
    "# load the unseen data\n",
    "df = pd.read_csv('../data/serving_data/septic_data_unlabelled.csv')\n",
    "df.head()"
   ]
  },
  {
   "cell_type": "code",
   "execution_count": 67,
   "id": "a7cd79eb-53f7-4a7b-8506-fef303398237",
   "metadata": {},
   "outputs": [],
   "source": [
    "TFDF = tfdf.keras.pd_dataframe_to_tf_dataset(df)"
   ]
  },
  {
   "cell_type": "code",
   "execution_count": 68,
   "id": "fc7806ec-12a9-48a8-8f06-bf95ec7a139e",
   "metadata": {},
   "outputs": [
    {
     "name": "stdout",
     "output_type": "stream",
     "text": [
      "WARNING:tensorflow:5 out of the last 12 calls to <function Model.make_predict_function.<locals>.predict_function at 0x7efe6c2c3670> triggered tf.function retracing. Tracing is expensive and the excessive number of tracings could be due to (1) creating @tf.function repeatedly in a loop, (2) passing tensors with different shapes, (3) passing Python objects instead of tensors. For (1), please define your @tf.function outside of the loop. For (2), @tf.function has reduce_retracing=True option that can avoid unnecessary retracing. For (3), please refer to https://www.tensorflow.org/guide/function#controlling_retracing and https://www.tensorflow.org/api_docs/python/tf/function for  more details.\n"
     ]
    },
    {
     "name": "stderr",
     "output_type": "stream",
     "text": [
      "WARNING:tensorflow:5 out of the last 12 calls to <function Model.make_predict_function.<locals>.predict_function at 0x7efe6c2c3670> triggered tf.function retracing. Tracing is expensive and the excessive number of tracings could be due to (1) creating @tf.function repeatedly in a loop, (2) passing tensors with different shapes, (3) passing Python objects instead of tensors. For (1), please define your @tf.function outside of the loop. For (2), @tf.function has reduce_retracing=True option that can avoid unnecessary retracing. For (3), please refer to https://www.tensorflow.org/guide/function#controlling_retracing and https://www.tensorflow.org/api_docs/python/tf/function for  more details.\n"
     ]
    },
    {
     "name": "stdout",
     "output_type": "stream",
     "text": [
      "1/1 [==============================] - 0s 57ms/step\n"
     ]
    }
   ],
   "source": [
    "# run the prediction https://www.tensorflow.org/decision_forests/api_docs/python/tfdf/keras/RandomForestModel#predict\n",
    "predictions = sepsis.predict(TFDF)\n",
    "# convert the array to a DataFrame\n",
    "write_predictions = pd.DataFrame(predictions)\n",
    "# write out\n",
    "write_predictions.to_csv('../data/serving_data/predictions.csv', index=False)\n",
    "# CURRENT OUTPUT READS AGAINST 0 (not septic) LABEL\n",
    "#TODO encode output to be more intuitive"
   ]
  },
  {
   "cell_type": "code",
   "execution_count": 72,
   "id": "58a45e59-f1a6-48bd-b66e-0be46c9545b7",
   "metadata": {},
   "outputs": [
    {
     "data": {
      "text/html": [
       "<div>\n",
       "<style scoped>\n",
       "    .dataframe tbody tr th:only-of-type {\n",
       "        vertical-align: middle;\n",
       "    }\n",
       "\n",
       "    .dataframe tbody tr th {\n",
       "        vertical-align: top;\n",
       "    }\n",
       "\n",
       "    .dataframe thead th {\n",
       "        text-align: right;\n",
       "    }\n",
       "</style>\n",
       "<table border=\"1\" class=\"dataframe\">\n",
       "  <thead>\n",
       "    <tr style=\"text-align: right;\">\n",
       "      <th></th>\n",
       "      <th>0</th>\n",
       "    </tr>\n",
       "  </thead>\n",
       "  <tbody>\n",
       "    <tr>\n",
       "      <th>0</th>\n",
       "      <td>0.999999</td>\n",
       "    </tr>\n",
       "    <tr>\n",
       "      <th>1</th>\n",
       "      <td>0.789999</td>\n",
       "    </tr>\n",
       "    <tr>\n",
       "      <th>2</th>\n",
       "      <td>0.999999</td>\n",
       "    </tr>\n",
       "    <tr>\n",
       "      <th>3</th>\n",
       "      <td>0.999999</td>\n",
       "    </tr>\n",
       "    <tr>\n",
       "      <th>4</th>\n",
       "      <td>0.999999</td>\n",
       "    </tr>\n",
       "    <tr>\n",
       "      <th>5</th>\n",
       "      <td>0.999999</td>\n",
       "    </tr>\n",
       "    <tr>\n",
       "      <th>6</th>\n",
       "      <td>0.000000</td>\n",
       "    </tr>\n",
       "    <tr>\n",
       "      <th>7</th>\n",
       "      <td>0.000000</td>\n",
       "    </tr>\n",
       "    <tr>\n",
       "      <th>8</th>\n",
       "      <td>0.000000</td>\n",
       "    </tr>\n",
       "    <tr>\n",
       "      <th>9</th>\n",
       "      <td>0.000000</td>\n",
       "    </tr>\n",
       "    <tr>\n",
       "      <th>10</th>\n",
       "      <td>0.000000</td>\n",
       "    </tr>\n",
       "    <tr>\n",
       "      <th>11</th>\n",
       "      <td>0.000000</td>\n",
       "    </tr>\n",
       "    <tr>\n",
       "      <th>12</th>\n",
       "      <td>0.000000</td>\n",
       "    </tr>\n",
       "    <tr>\n",
       "      <th>13</th>\n",
       "      <td>0.000000</td>\n",
       "    </tr>\n",
       "    <tr>\n",
       "      <th>14</th>\n",
       "      <td>0.000000</td>\n",
       "    </tr>\n",
       "    <tr>\n",
       "      <th>15</th>\n",
       "      <td>0.000000</td>\n",
       "    </tr>\n",
       "    <tr>\n",
       "      <th>16</th>\n",
       "      <td>0.000000</td>\n",
       "    </tr>\n",
       "    <tr>\n",
       "      <th>17</th>\n",
       "      <td>0.000000</td>\n",
       "    </tr>\n",
       "    <tr>\n",
       "      <th>18</th>\n",
       "      <td>0.000000</td>\n",
       "    </tr>\n",
       "    <tr>\n",
       "      <th>19</th>\n",
       "      <td>0.000000</td>\n",
       "    </tr>\n",
       "    <tr>\n",
       "      <th>20</th>\n",
       "      <td>0.000000</td>\n",
       "    </tr>\n",
       "  </tbody>\n",
       "</table>\n",
       "</div>"
      ],
      "text/plain": [
       "           0\n",
       "0   0.999999\n",
       "1   0.789999\n",
       "2   0.999999\n",
       "3   0.999999\n",
       "4   0.999999\n",
       "5   0.999999\n",
       "6   0.000000\n",
       "7   0.000000\n",
       "8   0.000000\n",
       "9   0.000000\n",
       "10  0.000000\n",
       "11  0.000000\n",
       "12  0.000000\n",
       "13  0.000000\n",
       "14  0.000000\n",
       "15  0.000000\n",
       "16  0.000000\n",
       "17  0.000000\n",
       "18  0.000000\n",
       "19  0.000000\n",
       "20  0.000000"
      ]
     },
     "execution_count": 72,
     "metadata": {},
     "output_type": "execute_result"
    }
   ],
   "source": [
    "write_predictions.head(22)"
   ]
  },
  {
   "cell_type": "code",
   "execution_count": null,
   "id": "b7906736-033a-4d7c-b250-225c3c275cac",
   "metadata": {},
   "outputs": [],
   "source": []
  }
 ],
 "metadata": {
  "kernelspec": {
   "display_name": "Python 3 (ipykernel)",
   "language": "python",
   "name": "python3"
  },
  "language_info": {
   "codemirror_mode": {
    "name": "ipython",
    "version": 3
   },
   "file_extension": ".py",
   "mimetype": "text/x-python",
   "name": "python",
   "nbconvert_exporter": "python",
   "pygments_lexer": "ipython3",
   "version": "3.8.8"
  }
 },
 "nbformat": 4,
 "nbformat_minor": 5
}
